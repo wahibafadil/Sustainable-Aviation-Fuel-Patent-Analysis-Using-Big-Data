{
 "cells": [
  {
   "cell_type": "code",
   "execution_count": 62,
   "id": "602da21e",
   "metadata": {},
   "outputs": [],
   "source": [
    "import plotly.express as px\n",
    "import pandas as pd\n",
    "\n",
    "data = pd.read_csv(\"C:\\\\Users\\\\hp\\\\id2\\\\bg\\\\PatentsProject\\\\fpo_data.csv\")\n",
    "\n"
   ]
  },
  {
   "cell_type": "code",
   "execution_count": 65,
   "id": "4792bf0e",
   "metadata": {},
   "outputs": [
    {
     "data": {
      "text/html": [
       "<div>\n",
       "<style scoped>\n",
       "    .dataframe tbody tr th:only-of-type {\n",
       "        vertical-align: middle;\n",
       "    }\n",
       "\n",
       "    .dataframe tbody tr th {\n",
       "        vertical-align: top;\n",
       "    }\n",
       "\n",
       "    .dataframe thead th {\n",
       "        text-align: right;\n",
       "    }\n",
       "</style>\n",
       "<table border=\"1\" class=\"dataframe\">\n",
       "  <thead>\n",
       "    <tr style=\"text-align: right;\">\n",
       "      <th></th>\n",
       "      <th>Document Number</th>\n",
       "      <th>Document Type</th>\n",
       "      <th>Publication Date</th>\n",
       "      <th>Title</th>\n",
       "      <th>Abstract</th>\n",
       "      <th>Inventor Name</th>\n",
       "      <th>Assignee</th>\n",
       "      <th>Filing Date</th>\n",
       "    </tr>\n",
       "  </thead>\n",
       "  <tbody>\n",
       "    <tr>\n",
       "      <th>0</th>\n",
       "      <td>DE102022133524A1</td>\n",
       "      <td>DE</td>\n",
       "      <td>2023-06-22</td>\n",
       "      <td>Luftfahrzeugantriebssystem</td>\n",
       "      <td>Ein Antriebssystem (4) für ein Luftfahrzeug (1...</td>\n",
       "      <td>SWANN PETER (GB); BEMMENT CRAIG W (GB); HOBDAY...</td>\n",
       "      <td>ROLLS ROYCE PLC (London, GB)</td>\n",
       "      <td>2022-12-15</td>\n",
       "    </tr>\n",
       "    <tr>\n",
       "      <th>1</th>\n",
       "      <td>DE102022133535A1</td>\n",
       "      <td>DE</td>\n",
       "      <td>2023-06-22</td>\n",
       "      <td>BESTIMMUNG VON KRAFTSTOFFMERKMALEN</td>\n",
       "      <td>Die vorliegende Anmeldung offenbart ein Verfah...</td>\n",
       "      <td>SWANN PETER (GB); BEAVEN DAVID M (GB); BEMMENT...</td>\n",
       "      <td>ROLLS ROYCE PLC (London, GB)</td>\n",
       "      <td>2022-12-15</td>\n",
       "    </tr>\n",
       "    <tr>\n",
       "      <th>2</th>\n",
       "      <td>DE102022133677A1</td>\n",
       "      <td>DE</td>\n",
       "      <td>2023-06-22</td>\n",
       "      <td>BESTIMMUNG VON KRAFTSTOFFMERKMALEN</td>\n",
       "      <td>Die vorliegende Anmeldung offenbart ein Verfah...</td>\n",
       "      <td>SWANN PETER (GB); BEAVEN DAVID M (GB); BEMMENT...</td>\n",
       "      <td>ROLLS ROYCE PLC (London, GB)</td>\n",
       "      <td>2022-12-16</td>\n",
       "    </tr>\n",
       "    <tr>\n",
       "      <th>3</th>\n",
       "      <td>DE102022133862A1</td>\n",
       "      <td>DE</td>\n",
       "      <td>2023-06-22</td>\n",
       "      <td>LEISTUNGSPARAMETER</td>\n",
       "      <td>Die vorliegende Anmeldung offenbart ein Verfah...</td>\n",
       "      <td>SWANN PETER (GB); BEAVEN DAVID M (GB); BEMMENT...</td>\n",
       "      <td>ROLLS ROYCE PLC (London, GB)</td>\n",
       "      <td>2022-12-19</td>\n",
       "    </tr>\n",
       "    <tr>\n",
       "      <th>4</th>\n",
       "      <td>DE102022133870A1</td>\n",
       "      <td>DE</td>\n",
       "      <td>2023-06-22</td>\n",
       "      <td>BESTIMMUNG VON KRAFTSTOFFMERKMALEN</td>\n",
       "      <td>Ein Verfahren (1040) zur Bestimmung eines oder...</td>\n",
       "      <td>SWANN PETER (GB); BEAVEN DAVID M (GB); BEMMENT...</td>\n",
       "      <td>ROLLS ROYCE PLC (London, GB)</td>\n",
       "      <td>2022-12-19</td>\n",
       "    </tr>\n",
       "  </tbody>\n",
       "</table>\n",
       "</div>"
      ],
      "text/plain": [
       "    Document Number Document Type Publication Date  \\\n",
       "0  DE102022133524A1            DE       2023-06-22   \n",
       "1  DE102022133535A1            DE       2023-06-22   \n",
       "2  DE102022133677A1            DE       2023-06-22   \n",
       "3  DE102022133862A1            DE       2023-06-22   \n",
       "4  DE102022133870A1            DE       2023-06-22   \n",
       "\n",
       "                                Title  \\\n",
       "0          Luftfahrzeugantriebssystem   \n",
       "1  BESTIMMUNG VON KRAFTSTOFFMERKMALEN   \n",
       "2  BESTIMMUNG VON KRAFTSTOFFMERKMALEN   \n",
       "3                  LEISTUNGSPARAMETER   \n",
       "4  BESTIMMUNG VON KRAFTSTOFFMERKMALEN   \n",
       "\n",
       "                                            Abstract  \\\n",
       "0  Ein Antriebssystem (4) für ein Luftfahrzeug (1...   \n",
       "1  Die vorliegende Anmeldung offenbart ein Verfah...   \n",
       "2  Die vorliegende Anmeldung offenbart ein Verfah...   \n",
       "3  Die vorliegende Anmeldung offenbart ein Verfah...   \n",
       "4  Ein Verfahren (1040) zur Bestimmung eines oder...   \n",
       "\n",
       "                                       Inventor Name  \\\n",
       "0  SWANN PETER (GB); BEMMENT CRAIG W (GB); HOBDAY...   \n",
       "1  SWANN PETER (GB); BEAVEN DAVID M (GB); BEMMENT...   \n",
       "2  SWANN PETER (GB); BEAVEN DAVID M (GB); BEMMENT...   \n",
       "3  SWANN PETER (GB); BEAVEN DAVID M (GB); BEMMENT...   \n",
       "4  SWANN PETER (GB); BEAVEN DAVID M (GB); BEMMENT...   \n",
       "\n",
       "                       Assignee Filing Date  \n",
       "0  ROLLS ROYCE PLC (London, GB)  2022-12-15  \n",
       "1  ROLLS ROYCE PLC (London, GB)  2022-12-15  \n",
       "2  ROLLS ROYCE PLC (London, GB)  2022-12-16  \n",
       "3  ROLLS ROYCE PLC (London, GB)  2022-12-19  \n",
       "4  ROLLS ROYCE PLC (London, GB)  2022-12-19  "
      ]
     },
     "execution_count": 65,
     "metadata": {},
     "output_type": "execute_result"
    }
   ],
   "source": [
    "data.head()"
   ]
  },
  {
   "cell_type": "code",
   "execution_count": 41,
   "id": "5ab74f8e",
   "metadata": {},
   "outputs": [
    {
     "name": "stdout",
     "output_type": "stream",
     "text": [
      "<class 'pandas.core.frame.DataFrame'>\n",
      "RangeIndex: 3500 entries, 0 to 3499\n",
      "Data columns (total 8 columns):\n",
      " #   Column            Non-Null Count  Dtype \n",
      "---  ------            --------------  ----- \n",
      " 0   Document Number   3500 non-null   object\n",
      " 1   Document Type     3500 non-null   object\n",
      " 2   Publication Date  3500 non-null   object\n",
      " 3   Title             3499 non-null   object\n",
      " 4   Abstract          3473 non-null   object\n",
      " 5   Inventor Name     3495 non-null   object\n",
      " 6   Assignee          3499 non-null   object\n",
      " 7   Filing Date       3500 non-null   object\n",
      "dtypes: object(8)\n",
      "memory usage: 218.9+ KB\n"
     ]
    }
   ],
   "source": [
    "data.info()"
   ]
  },
  {
   "cell_type": "code",
   "execution_count": 42,
   "id": "0f360fe8",
   "metadata": {},
   "outputs": [
    {
     "name": "stdout",
     "output_type": "stream",
     "text": [
      "         Document Number Document Type Publication Date               Title  \\\n",
      "count               3500          3500             3500                3499   \n",
      "unique              3500             5             2268                2420   \n",
      "top     DE102022133524A1            US       09/18/2014  PROCESSING BIOMASS   \n",
      "freq                   1          2450               15                  25   \n",
      "\n",
      "                                                 Abstract  \\\n",
      "count                                                3473   \n",
      "unique                                               2213   \n",
      "top     Biomass (e.g., plant biomass, animal biomass, ...   \n",
      "freq                                                   38   \n",
      "\n",
      "                               Inventor Name            Assignee Filing Date  \n",
      "count                                   3495                3499        3500  \n",
      "unique                                  2073                1722        1995  \n",
      "top     Medoff, Marshall (Brookline, MA, US)  Assignee not found  06/29/2022  \n",
      "freq                                      61                 160          20  \n"
     ]
    }
   ],
   "source": [
    "print(data.describe(include='all'))\n"
   ]
  },
  {
   "cell_type": "markdown",
   "id": "d7c5fb3e",
   "metadata": {},
   "source": [
    "# 2D ANALYSE"
   ]
  },
  {
   "cell_type": "raw",
   "id": "9e637744",
   "metadata": {},
   "source": [
    "# Relation entre Filing Date et Publication Date"
   ]
  },
  {
   "cell_type": "code",
   "execution_count": 68,
   "id": "9d04f4f0",
   "metadata": {},
   "outputs": [],
   "source": [
    "data['Filing Date'] = pd.to_datetime(data['Filing Date'], errors='coerce')\n",
    "data['Publication Date'] = pd.to_datetime(data['Publication Date'], errors='coerce')\n",
    "data['Days Between Filing and Publication'] = (data['Publication Date'] - data['Filing Date']).dt.days\n",
    "PandF = data['Days Between Filing and Publication'].describe()\n"
   ]
  },
  {
   "cell_type": "code",
   "execution_count": 48,
   "id": "02ed1028",
   "metadata": {
    "scrolled": true
   },
   "outputs": [
    {
     "data": {
      "image/png": "[encoded data removed]",
      "text/plain": [
       "<Figure size 1000x500 with 1 Axes>"
      ]
     },
     "metadata": {},
     "output_type": "display_data"
    },
    {
     "data": {
      "image/png": "[encoded data removed]",
      "text/plain": [
       "<Figure size 800x300 with 1 Axes>"
      ]
     },
     "metadata": {},
     "output_type": "display_data"
    }
   ],
   "source": [
    "# Histogram\n",
    "plt.figure(figsize=(10, 5))\n",
    "sns.histplot(data['Days Between Filing and Publication'].dropna(), bins=30, kde=True)\n",
    "plt.title('Distribution of Days Between Filing and Publication')\n",
    "plt.xlabel('Days Between Filing and Publication')\n",
    "plt.ylabel('Frequency')\n",
    "plt.grid(True)\n",
    "plt.show()\n",
    "\n",
    "# Boxplot\n",
    "plt.figure(figsize=(8,3 ))\n",
    "sns.boxplot(x=data['Days Between Filing and Publication'].dropna())\n",
    "plt.title('Boxplot of Days Between Filing and Publication')\n",
    "plt.xlabel('Days Between Filing and Publication')\n",
    "plt.grid(True)\n",
    "plt.show()"
   ]
  },
  {
   "cell_type": "raw",
   "id": "8bfa54fc",
   "metadata": {},
   "source": [
    "Relation entre Assignee et Document Type"
   ]
  },
  {
   "cell_type": "code",
   "execution_count": 51,
   "id": "554ad101",
   "metadata": {},
   "outputs": [],
   "source": [
    "document_type_counts = data.groupby('Assignee')['Document Type'].value_counts().unstack().fillna(0)\n",
    "\n"
   ]
  },
  {
   "cell_type": "code",
   "execution_count": 55,
   "id": "201d2497",
   "metadata": {},
   "outputs": [
    {
     "data": {
      "image/png": "[encoded data removed]",
      "text/plain": [
       "<Figure size 1200x800 with 1 Axes>"
      ]
     },
     "metadata": {},
     "output_type": "display_data"
    }
   ],
   "source": [
    "import pandas as pd\n",
    "import matplotlib.pyplot as plt\n",
    "import warnings\n",
    "\n",
    "# Ignorer les avertissements spécifiques des glyphes manquants\n",
    "warnings.filterwarnings(\"ignore\", category=UserWarning, message=\"Glyph .* missing from current font.\")\n",
    "\n",
    "# Group by 'Assignee' and count the occurrences of 'Document Type'\n",
    "document_type_counts = data.groupby('Assignee')['Document Type'].value_counts().unstack().fillna(0)\n",
    "\n",
    "# Sélectionner les 10 assignees ayant le plus de documents\n",
    "top_assignees = document_type_counts.sum(axis=1).nlargest(10).index\n",
    "document_type_counts_top = document_type_counts.loc[top_assignees]\n",
    "\n",
    "# Plotting a stacked bar chart\n",
    "ax = document_type_counts_top.plot(kind='bar', stacked=True, figsize=(12, 8), colormap='tab20')\n",
    "\n",
    "# Adding title and labels\n",
    "plt.title('Document Types by Top 10 Assignees')\n",
    "plt.xlabel('Assignee')\n",
    "plt.ylabel('Number of Documents')\n",
    "plt.xticks(rotation=45, ha='right')\n",
    "plt.legend(title='Document Type', bbox_to_anchor=(1.05, 1), loc='upper left')\n",
    "plt.tight_layout()\n",
    "\n",
    "# Display the plot\n",
    "plt.show()\n",
    "\n"
   ]
  },
  {
   "cell_type": "raw",
   "id": "792eafd8",
   "metadata": {},
   "source": [
    "# Relation entre Inventor Name et Document Number"
   ]
  },
  {
   "cell_type": "code",
   "execution_count": 11,
   "id": "d2469abb",
   "metadata": {},
   "outputs": [
    {
     "name": "stdout",
     "output_type": "stream",
     "text": [
      "                                          Inventor Name  Document Number\n",
      "0     AALTO PEKKA (FI); SANDBERG KATI (FI); NYMAN TO...                3\n",
      "1                      AB Industry Osaka salmon yukichu                1\n",
      "2     ABDEL NOUR PIERRE (IT); BRUGHERA PAOLO (IT); C...                2\n",
      "3     ABHARI RAMIN (US); ASHBY ERIK (US); GOLDEN CAR...                1\n",
      "4     ABHARI RAMIN (US); HAVERLY MARTIN (US); BERG M...                2\n",
      "...                                                 ...              ...\n",
      "2068                                      デユボワ，ジヤン−リユツク                1\n",
      "2069  ナレンドラ ディガンバー Joshi; ヴェン cut S ワール tongue ギララ; ...                1\n",
      "2070                                ハーランド，ピーター; ハーネス，ケン                1\n",
      "2071                              ヘイサム，  ヤクブ; リマ，  ゴーセン                1\n",
      "2072      山根  健次; 村上  睦尚; 松本  隆弘; 猪原  祥行; 藤木  信彦; 綾  威雄                1\n",
      "\n",
      "[2073 rows x 2 columns]\n"
     ]
    }
   ],
   "source": [
    "documents_per_inventor = data.groupby('Inventor Name')['Document Number'].count().reset_index()\n",
    "documents_per_inventor.to_csv('documents_per_inventor.csv', index=False)\n",
    "print(documents_per_inventor)\n"
   ]
  },
  {
   "cell_type": "code",
   "execution_count": 56,
   "id": "468ad87e",
   "metadata": {},
   "outputs": [
    {
     "data": {
      "image/png": "[encoded data removed]",
      "text/plain": [
       "<Figure size 1200x800 with 1 Axes>"
      ]
     },
     "metadata": {},
     "output_type": "display_data"
    }
   ],
   "source": [
    "# Ignorer les avertissements spécifiques des glyphes manquants\n",
    "warnings.filterwarnings(\"ignore\", category=UserWarning, message=\"Glyph .* missing from current font.\")\n",
    "\n",
    "# Group by 'Inventor Name' and count the number of documents\n",
    "documents_per_inventor = data.groupby('Inventor Name')['Document Number'].count().reset_index()\n",
    "documents_per_inventor.columns = ['Inventor Name', 'Document Count']\n",
    "\n",
    "# Sélectionner les 10 inventeurs ayant le plus de documents\n",
    "top_inventors = documents_per_inventor.sort_values(by='Document Count', ascending=False).head(10)\n",
    "\n",
    "# Plotting a bar chart\n",
    "plt.figure(figsize=(12, 8))\n",
    "sns.barplot(x='Document Count', y='Inventor Name', data=top_inventors, palette='viridis')\n",
    "\n",
    "# Adding title and labels\n",
    "plt.title('Number of Documents per Top 10 Inventors')\n",
    "plt.xlabel('Document Count')\n",
    "plt.ylabel('Inventor Name')\n",
    "plt.grid(True)\n",
    "plt.tight_layout()\n",
    "\n",
    "# Display the plot\n",
    "plt.show()"
   ]
  },
  {
   "cell_type": "markdown",
   "id": "e01d2a2d",
   "metadata": {},
   "source": [
    "# Analyse 3D"
   ]
  },
  {
   "cell_type": "raw",
   "id": "25281a43",
   "metadata": {},
   "source": [
    "# Relation entre Assignee, Inventor Name, et Document Type"
   ]
  },
  {
   "cell_type": "code",
   "execution_count": 57,
   "id": "4bb3b349",
   "metadata": {},
   "outputs": [],
   "source": [
    "documents_per_assignee_inventor = data.groupby(['Assignee', 'Inventor Name', 'Document Type']).size().reset_index(name='Document Count')\n"
   ]
  },
  {
   "cell_type": "code",
   "execution_count": 60,
   "id": "4ddf58c1",
   "metadata": {},
   "outputs": [
    {
     "data": {
      "application/vnd.plotly.v1+json": {
       "config": {
        "plotlyServerURL": "https://plot.ly"
       },
       "data": [
        {
         "hovertemplate": "Document Type=US<br>Assignee=%{x}<br>Inventor=%{y}<br>Document Count=%{marker.size}<extra></extra>",
         "legendgroup": "US",
         "marker": {
          "color": "#636efa",
          "size": [
           10,
           8,
           14,
           7,
           18,
           13,
           5,
           5,
           6,
           6,
           13,
           13,
           21,
           2,
           2,
           1,
           8,
           7,
           4,
           5,
           13,
           1,
           22,
           2,
           5,
           17,
           3
          ],
          "sizemode": "area",
          "sizeref": 0.055,
          "symbol": "circle"
         },
         "mode": "markers",
         "name": "US",
         "scene": "scene",
         "showlegend": true,
         "type": "scatter3d",
         "x": [
          "AGRISOMA BIOSCIENCES INC. (Gatineau, CA)",
          "BETA AIR, LLC (South Burlington, VT, US)",
          "BETA AIR, LLC (South Burlington, VT, US)",
          "EXXONMOBIL RESEARCH AND ENGINEERING COMPANY (Annandale, NJ, US)",
          "Fuel Automation Station, LLC (Birmingham, MI, US)",
          "General Electric Company (Schenectady, NY, US)",
          "General Electric Company (Schenectady, NY, US)",
          "General Electric Company (Schenectady, NY, US)",
          "General Electric Company (Schenectady, NY, US)",
          "General Electric Company (Schenectady, NY, US)",
          "MAWETAL LLC (Nacogdoches, TX, US)",
          "McAlister Technologies, LLC (Phoenix, AZ, US)",
          "McAlister Technologies, LLC (Phoenix, AZ, US)",
          "ROLLS-ROYCE PLC (London, GB)",
          "ROLLS-ROYCE PLC (London, GB)",
          "ROLLS-ROYCE PLC (London, GB)",
          "ROLLS-ROYCE plc (London, GB)",
          "ROLLS-ROYCE plc (London, GB)",
          "ROLLS-ROYCE plc (London, GB)",
          "The Boeing Company (Chicago, IL, US)",
          "XYLECO, INC.",
          "XYLECO, INC.",
          "XYLECO, INC. (Woburn, MA, US)",
          "XYLECO, INC. (Woburn, MA, US)",
          "XYLECO, INC. (Woburn, MA, US)",
          "Xyleco, Inc. (Woburn, MA, US)",
          "Xyleco, Inc. (Woburn, MA, US)"
         ],
         "y": [
          "Bennett, Rick (Saskatoon, CA)",
          "Moeykens, Vincent (Burlington, VT, US)",
          "Wiegman, Herman (Essex Junction, VT, US)",
          "Berlowitz, Paul J. (Glen Gardner, NJ, US)                \n                            Barckholtz, Timothy Andrew (Whitehouse Station, NJ, US)                \n                            Hershkowitz, Frank H. (Basking Ridge, NJ, US)",
          "Shock, Ricky Dean (Victoria, TX, US)",
          "Pal, Sibtosh (Mason, OH, US)                \n                            Vise, Steven Clayton (Loveland, OH, US)                \n                            Johnson, Arthur Wesley (Cincinnati, OH, US)                \n                            Cooper, Clayton Stuart (Loveland, OH, US)                \n                            Zelina, Joseph (Waynesville, OH, US)",
          "Pal, Sibtosh (Mason, OH, US)                \n                            Zelina, Joseph (Waynesville, OH, US)                \n                            Johnson, Arthur Wesley (Cincinnati, OH, US)                \n                            Cooper, Clayton Stuart (Loveland, OH, US)                \n                            Vise, Steven Clayton (Loveland, OH, US)",
          "Reynolds, Brandon Allanson (Cincinnati, OH, US)                \n                            Weaver, Matthew Mark (Loveland, OH, US)                \n                            Kerns, Daniel Patrick (Mason, OH, US)",
          "Stuart, Alan Roy (Cincinnati, OH, US)                \n                            Clements, Jeffrey Donald (Mason, OH, US)                \n                            Schmidt, Richard (Loveland, OH, US)                \n                            Moniz, Thomas Ory (Loveland, OH, US)",
          "Wang, Honggang (Clifton Park, NY, US)                \n                            Benjamin, Michael Anthony (Cincinnati, OH, US)                \n                            Hong, Seung-hyuck (Clifton Park, NY, US)                \n                            Hart, Richard L. (Broadalbin, NY, US)",
          "Wohaibi, Mohammed (Nacogdoches, TX, US)                \n                            Pruitt, Tom F. (Nacogdoches, TX, US)",
          "Mcalister, Roy E. (Phoenix, AZ, US)",
          "Mcalister, Roy Edward (Phoenix, AZ, US)",
          "Swann, Peter (Derby, GB)                \n                            Beaven, David M. (Nottingham, GB)                \n                            Bemment, Craig W. (Derby, GB)                \n                            Hobday, Alastair G. (Derby, GB)                \n                            Keeler, Benjamin J. (Derby, GB)                \n                            Madden, Christopher P. (Derby, GB)                \n                            Yates, Martin K. (East Haddon, GB)",
          "Swann, Peter (Derby, GB)                \n                            Bemment, Craig W. (Derby, GB)                \n                            Hobday, Alastair G. (Derby, GB)                \n                            Keeler, Benjamin J. (Derby, GB)                \n                            Madden, Christopher P. (Derby, GB)",
          "Swann, Peter (Derby, GB)                \n                            Madden, Christopher P. (Derby, GB)                \n                            Bemment, Craig W. (Derby, GB)",
          "Swann, Peter (Derby, GB)                \n                            Beaven, David M. (Nottingham, GB)                \n                            Bemment, Craig W. (Derby, GB)                \n                            Hobday, Alastair G. (Derby, GB)                \n                            Keeler, Benjamin J. (Derby, GB)                \n                            Madden, Christopher P. (Derby, GB)                \n                            Yates, Martin K. (East Haddon, GB)",
          "Swann, Peter (Derby, GB)                \n                            Bemment, Craig W. (Derby, GB)                \n                            Hobday, Alastair G. (Derby, GB)                \n                            Keeler, Benjamin J. (Derby, GB)                \n                            Madden, Christopher P. (Derby, GB)",
          "Swann, Peter (Derby, GB)                \n                            Madden, Christopher P. (Derby, GB)                \n                            Bemment, Craig W. (Derby, GB)",
          "Beaufrere, Henry Llewellyn (Mercer Island, WA, US)",
          "Medoff, Marshall (Brookline, MA, US)",
          "Medoff, Marshall (Brookline, MA, US)                \n                            Masterman, Thomas Craig (Rockport, MA, US)",
          "Medoff, Marshall (Brookline, MA, US)",
          "Medoff, Marshall (Brookline, MA, US)                \n                            Masterman, Thomas Craig (Brookline, MA, US)",
          "Medoff, Marshall (Brookline, MA, US)                \n                            Masterman, Thomas Craig (Rockport, MA, US)",
          "Medoff, Marshall (Brookline, MA, US)",
          "Medoff, Marshall (Brookline, MA, US)                \n                            Masterman, Thomas Craig (Brookline, MA, US)"
         ],
         "z": [
          10,
          8,
          14,
          7,
          18,
          13,
          5,
          5,
          6,
          6,
          13,
          13,
          21,
          2,
          2,
          1,
          8,
          7,
          4,
          5,
          13,
          1,
          22,
          2,
          5,
          17,
          3
         ]
        }
       ],
       "layout": {
        "legend": {
         "itemsizing": "constant",
         "title": {
          "text": "Document Type"
         },
         "tracegroupgap": 0
        },
        "scene": {
         "domain": {
          "x": [
           0,
           1
          ],
          "y": [
           0,
           1
          ]
         },
         "xaxis": {
          "title": {
           "text": "Assignee"
          }
         },
         "yaxis": {
          "title": {
           "text": "Inventor"
          }
         },
         "zaxis": {
          "title": {
           "text": "Document Count"
          }
         }
        },
        "template": {
         "data": {
          "bar": [
           {
            "error_x": {
             "color": "#2a3f5f"
            },
            "error_y": {
             "color": "#2a3f5f"
            },
            "marker": {
             "line": {
              "color": "#E5ECF6",
              "width": 0.5
             },
             "pattern": {
              "fillmode": "overlay",
              "size": 10,
              "solidity": 0.2
             }
            },
            "type": "bar"
           }
          ],
          "barpolar": [
           {
            "marker": {
             "line": {
              "color": "#E5ECF6",
              "width": 0.5
             },
             "pattern": {
              "fillmode": "overlay",
              "size": 10,
              "solidity": 0.2
             }
            },
            "type": "barpolar"
           }
          ],
          "carpet": [
           {
            "aaxis": {
             "endlinecolor": "#2a3f5f",
             "gridcolor": "white",
             "linecolor": "white",
             "minorgridcolor": "white",
             "startlinecolor": "#2a3f5f"
            },
            "baxis": {
             "endlinecolor": "#2a3f5f",
             "gridcolor": "white",
             "linecolor": "white",
             "minorgridcolor": "white",
             "startlinecolor": "#2a3f5f"
            },
            "type": "carpet"
           }
          ],
          "choropleth": [
           {
            "colorbar": {
             "outlinewidth": 0,
             "ticks": ""
            },
            "type": "choropleth"
           }
          ],
          "contour": [
           {
            "colorbar": {
             "outlinewidth": 0,
             "ticks": ""
            },
            "colorscale": [
             [
              0,
              "#0d0887"
             ],
             [
              0.1111111111111111,
              "#46039f"
             ],
             [
              0.2222222222222222,
              "#7201a8"
             ],
             [
              0.3333333333333333,
              "#9c179e"
             ],
             [
              0.4444444444444444,
              "#bd3786"
             ],
             [
              0.5555555555555556,
              "#d8576b"
             ],
             [
              0.6666666666666666,
              "#ed7953"
             ],
             [
              0.7777777777777778,
              "#fb9f3a"
             ],
             [
              0.8888888888888888,
              "#fdca26"
             ],
             [
              1,
              "#f0f921"
             ]
            ],
            "type": "contour"
           }
          ],
          "contourcarpet": [
           {
            "colorbar": {
             "outlinewidth": 0,
             "ticks": ""
            },
            "type": "contourcarpet"
           }
          ],
          "heatmap": [
           {
            "colorbar": {
             "outlinewidth": 0,
             "ticks": ""
            },
            "colorscale": [
             [
              0,
              "#0d0887"
             ],
             [
              0.1111111111111111,
              "#46039f"
             ],
             [
              0.2222222222222222,
              "#7201a8"
             ],
             [
              0.3333333333333333,
              "#9c179e"
             ],
             [
              0.4444444444444444,
              "#bd3786"
             ],
             [
              0.5555555555555556,
              "#d8576b"
             ],
             [
              0.6666666666666666,
              "#ed7953"
             ],
             [
              0.7777777777777778,
              "#fb9f3a"
             ],
             [
              0.8888888888888888,
              "#fdca26"
             ],
             [
              1,
              "#f0f921"
             ]
            ],
            "type": "heatmap"
           }
          ],
          "heatmapgl": [
           {
            "colorbar": {
             "outlinewidth": 0,
             "ticks": ""
            },
            "colorscale": [
             [
              0,
              "#0d0887"
             ],
             [
              0.1111111111111111,
              "#46039f"
             ],
             [
              0.2222222222222222,
              "#7201a8"
             ],
             [
              0.3333333333333333,
              "#9c179e"
             ],
             [
              0.4444444444444444,
              "#bd3786"
             ],
             [
              0.5555555555555556,
              "#d8576b"
             ],
             [
              0.6666666666666666,
              "#ed7953"
             ],
             [
              0.7777777777777778,
              "#fb9f3a"
             ],
             [
              0.8888888888888888,
              "#fdca26"
             ],
             [
              1,
              "#f0f921"
             ]
            ],
            "type": "heatmapgl"
           }
          ],
          "histogram": [
           {
            "marker": {
             "pattern": {
              "fillmode": "overlay",
              "size": 10,
              "solidity": 0.2
             }
            },
            "type": "histogram"
           }
          ],
          "histogram2d": [
           {
            "colorbar": {
             "outlinewidth": 0,
             "ticks": ""
            },
            "colorscale": [
             [
              0,
              "#0d0887"
             ],
             [
              0.1111111111111111,
              "#46039f"
             ],
             [
              0.2222222222222222,
              "#7201a8"
             ],
             [
              0.3333333333333333,
              "#9c179e"
             ],
             [
              0.4444444444444444,
              "#bd3786"
             ],
             [
              0.5555555555555556,
              "#d8576b"
             ],
             [
              0.6666666666666666,
              "#ed7953"
             ],
             [
              0.7777777777777778,
              "#fb9f3a"
             ],
             [
              0.8888888888888888,
              "#fdca26"
             ],
             [
              1,
              "#f0f921"
             ]
            ],
            "type": "histogram2d"
           }
          ],
          "histogram2dcontour": [
           {
            "colorbar": {
             "outlinewidth": 0,
             "ticks": ""
            },
            "colorscale": [
             [
              0,
              "#0d0887"
             ],
             [
              0.1111111111111111,
              "#46039f"
             ],
             [
              0.2222222222222222,
              "#7201a8"
             ],
             [
              0.3333333333333333,
              "#9c179e"
             ],
             [
              0.4444444444444444,
              "#bd3786"
             ],
             [
              0.5555555555555556,
              "#d8576b"
             ],
             [
              0.6666666666666666,
              "#ed7953"
             ],
             [
              0.7777777777777778,
              "#fb9f3a"
             ],
             [
              0.8888888888888888,
              "#fdca26"
             ],
             [
              1,
              "#f0f921"
             ]
            ],
            "type": "histogram2dcontour"
           }
          ],
          "mesh3d": [
           {
            "colorbar": {
             "outlinewidth": 0,
             "ticks": ""
            },
            "type": "mesh3d"
           }
          ],
          "parcoords": [
           {
            "line": {
             "colorbar": {
              "outlinewidth": 0,
              "ticks": ""
             }
            },
            "type": "parcoords"
           }
          ],
          "pie": [
           {
            "automargin": true,
            "type": "pie"
           }
          ],
          "scatter": [
           {
            "fillpattern": {
             "fillmode": "overlay",
             "size": 10,
             "solidity": 0.2
            },
            "type": "scatter"
           }
          ],
          "scatter3d": [
           {
            "line": {
             "colorbar": {
              "outlinewidth": 0,
              "ticks": ""
             }
            },
            "marker": {
             "colorbar": {
              "outlinewidth": 0,
              "ticks": ""
             }
            },
            "type": "scatter3d"
           }
          ],
          "scattercarpet": [
           {
            "marker": {
             "colorbar": {
              "outlinewidth": 0,
              "ticks": ""
             }
            },
            "type": "scattercarpet"
           }
          ],
          "scattergeo": [
           {
            "marker": {
             "colorbar": {
              "outlinewidth": 0,
              "ticks": ""
             }
            },
            "type": "scattergeo"
           }
          ],
          "scattergl": [
           {
            "marker": {
             "colorbar": {
              "outlinewidth": 0,
              "ticks": ""
             }
            },
            "type": "scattergl"
           }
          ],
          "scattermapbox": [
           {
            "marker": {
             "colorbar": {
              "outlinewidth": 0,
              "ticks": ""
             }
            },
            "type": "scattermapbox"
           }
          ],
          "scatterpolar": [
           {
            "marker": {
             "colorbar": {
              "outlinewidth": 0,
              "ticks": ""
             }
            },
            "type": "scatterpolar"
           }
          ],
          "scatterpolargl": [
           {
            "marker": {
             "colorbar": {
              "outlinewidth": 0,
              "ticks": ""
             }
            },
            "type": "scatterpolargl"
           }
          ],
          "scatterternary": [
           {
            "marker": {
             "colorbar": {
              "outlinewidth": 0,
              "ticks": ""
             }
            },
            "type": "scatterternary"
           }
          ],
          "surface": [
           {
            "colorbar": {
             "outlinewidth": 0,
             "ticks": ""
            },
            "colorscale": [
             [
              0,
              "#0d0887"
             ],
             [
              0.1111111111111111,
              "#46039f"
             ],
             [
              0.2222222222222222,
              "#7201a8"
             ],
             [
              0.3333333333333333,
              "#9c179e"
             ],
             [
              0.4444444444444444,
              "#bd3786"
             ],
             [
              0.5555555555555556,
              "#d8576b"
             ],
             [
              0.6666666666666666,
              "#ed7953"
             ],
             [
              0.7777777777777778,
              "#fb9f3a"
             ],
             [
              0.8888888888888888,
              "#fdca26"
             ],
             [
              1,
              "#f0f921"
             ]
            ],
            "type": "surface"
           }
          ],
          "table": [
           {
            "cells": {
             "fill": {
              "color": "#EBF0F8"
             },
             "line": {
              "color": "white"
             }
            },
            "header": {
             "fill": {
              "color": "#C8D4E3"
             },
             "line": {
              "color": "white"
             }
            },
            "type": "table"
           }
          ]
         },
         "layout": {
          "annotationdefaults": {
           "arrowcolor": "#2a3f5f",
           "arrowhead": 0,
           "arrowwidth": 1
          },
          "autotypenumbers": "strict",
          "coloraxis": {
           "colorbar": {
            "outlinewidth": 0,
            "ticks": ""
           }
          },
          "colorscale": {
           "diverging": [
            [
             0,
             "#8e0152"
            ],
            [
             0.1,
             "#c51b7d"
            ],
            [
             0.2,
             "#de77ae"
            ],
            [
             0.3,
             "#f1b6da"
            ],
            [
             0.4,
             "#fde0ef"
            ],
            [
             0.5,
             "#f7f7f7"
            ],
            [
             0.6,
             "#e6f5d0"
            ],
            [
             0.7,
             "#b8e186"
            ],
            [
             0.8,
             "#7fbc41"
            ],
            [
             0.9,
             "#4d9221"
            ],
            [
             1,
             "#276419"
            ]
           ],
           "sequential": [
            [
             0,
             "#0d0887"
            ],
            [
             0.1111111111111111,
             "#46039f"
            ],
            [
             0.2222222222222222,
             "#7201a8"
            ],
            [
             0.3333333333333333,
             "#9c179e"
            ],
            [
             0.4444444444444444,
             "#bd3786"
            ],
            [
             0.5555555555555556,
             "#d8576b"
            ],
            [
             0.6666666666666666,
             "#ed7953"
            ],
            [
             0.7777777777777778,
             "#fb9f3a"
            ],
            [
             0.8888888888888888,
             "#fdca26"
            ],
            [
             1,
             "#f0f921"
            ]
           ],
           "sequentialminus": [
            [
             0,
             "#0d0887"
            ],
            [
             0.1111111111111111,
             "#46039f"
            ],
            [
             0.2222222222222222,
             "#7201a8"
            ],
            [
             0.3333333333333333,
             "#9c179e"
            ],
            [
             0.4444444444444444,
             "#bd3786"
            ],
            [
             0.5555555555555556,
             "#d8576b"
            ],
            [
             0.6666666666666666,
             "#ed7953"
            ],
            [
             0.7777777777777778,
             "#fb9f3a"
            ],
            [
             0.8888888888888888,
             "#fdca26"
            ],
            [
             1,
             "#f0f921"
            ]
           ]
          },
          "colorway": [
           "#636efa",
           "#EF553B",
           "#00cc96",
           "#ab63fa",
           "#FFA15A",
           "#19d3f3",
           "#FF6692",
           "#B6E880",
           "#FF97FF",
           "#FECB52"
          ],
          "font": {
           "color": "#2a3f5f"
          },
          "geo": {
           "bgcolor": "white",
           "lakecolor": "white",
           "landcolor": "#E5ECF6",
           "showlakes": true,
           "showland": true,
           "subunitcolor": "white"
          },
          "hoverlabel": {
           "align": "left"
          },
          "hovermode": "closest",
          "mapbox": {
           "style": "light"
          },
          "paper_bgcolor": "white",
          "plot_bgcolor": "#E5ECF6",
          "polar": {
           "angularaxis": {
            "gridcolor": "white",
            "linecolor": "white",
            "ticks": ""
           },
           "bgcolor": "#E5ECF6",
           "radialaxis": {
            "gridcolor": "white",
            "linecolor": "white",
            "ticks": ""
           }
          },
          "scene": {
           "xaxis": {
            "backgroundcolor": "#E5ECF6",
            "gridcolor": "white",
            "gridwidth": 2,
            "linecolor": "white",
            "showbackground": true,
            "ticks": "",
            "zerolinecolor": "white"
           },
           "yaxis": {
            "backgroundcolor": "#E5ECF6",
            "gridcolor": "white",
            "gridwidth": 2,
            "linecolor": "white",
            "showbackground": true,
            "ticks": "",
            "zerolinecolor": "white"
           },
           "zaxis": {
            "backgroundcolor": "#E5ECF6",
            "gridcolor": "white",
            "gridwidth": 2,
            "linecolor": "white",
            "showbackground": true,
            "ticks": "",
            "zerolinecolor": "white"
           }
          },
          "shapedefaults": {
           "line": {
            "color": "#2a3f5f"
           }
          },
          "ternary": {
           "aaxis": {
            "gridcolor": "white",
            "linecolor": "white",
            "ticks": ""
           },
           "baxis": {
            "gridcolor": "white",
            "linecolor": "white",
            "ticks": ""
           },
           "bgcolor": "#E5ECF6",
           "caxis": {
            "gridcolor": "white",
            "linecolor": "white",
            "ticks": ""
           }
          },
          "title": {
           "x": 0.05
          },
          "xaxis": {
           "automargin": true,
           "gridcolor": "white",
           "linecolor": "white",
           "ticks": "",
           "title": {
            "standoff": 15
           },
           "zerolinecolor": "white",
           "zerolinewidth": 2
          },
          "yaxis": {
           "automargin": true,
           "gridcolor": "white",
           "linecolor": "white",
           "ticks": "",
           "title": {
            "standoff": 15
           },
           "zerolinecolor": "white",
           "zerolinewidth": 2
          }
         }
        },
        "title": {
         "text": "3D Visualization of Documents per Assignee and Inventor"
        }
       }
      },
      "text/html": [
       "<div>                            <div id=\"1313abfc-3dd4-4edf-9be9-b3924a443054\" class=\"plotly-graph-div\" style=\"height:525px; width:100%;\"></div>            <script type=\"text/javascript\">                require([\"plotly\"], function(Plotly) {                    window.PLOTLYENV=window.PLOTLYENV || {};                                    if (document.getElementById(\"1313abfc-3dd4-4edf-9be9-b3924a443054\")) {                    Plotly.newPlot(                        \"1313abfc-3dd4-4edf-9be9-b3924a443054\",                        [{\"hovertemplate\":\"Document Type=US<br>Assignee=%{x}<br>Inventor=%{y}<br>Document Count=%{marker.size}<extra></extra>\",\"legendgroup\":\"US\",\"marker\":{\"color\":\"#636efa\",\"size\":[10,8,14,7,18,13,5,5,6,6,13,13,21,2,2,1,8,7,4,5,13,1,22,2,5,17,3],\"sizemode\":\"area\",\"sizeref\":0.055,\"symbol\":\"circle\"},\"mode\":\"markers\",\"name\":\"US\",\"scene\":\"scene\",\"showlegend\":true,\"x\":[\"AGRISOMA BIOSCIENCES INC. (Gatineau, CA)\",\"BETA AIR, LLC (South Burlington, VT, US)\",\"BETA AIR, LLC (South Burlington, VT, US)\",\"EXXONMOBIL RESEARCH AND ENGINEERING COMPANY (Annandale, NJ, US)\",\"Fuel Automation Station, LLC (Birmingham, MI, US)\",\"General Electric Company (Schenectady, NY, US)\",\"General Electric Company (Schenectady, NY, US)\",\"General Electric Company (Schenectady, NY, US)\",\"General Electric Company (Schenectady, NY, US)\",\"General Electric Company (Schenectady, NY, US)\",\"MAWETAL LLC (Nacogdoches, TX, US)\",\"McAlister Technologies, LLC (Phoenix, AZ, US)\",\"McAlister Technologies, LLC (Phoenix, AZ, US)\",\"ROLLS-ROYCE PLC (London, GB)\",\"ROLLS-ROYCE PLC (London, GB)\",\"ROLLS-ROYCE PLC (London, GB)\",\"ROLLS-ROYCE plc (London, GB)\",\"ROLLS-ROYCE plc (London, GB)\",\"ROLLS-ROYCE plc (London, GB)\",\"The Boeing Company (Chicago, IL, US)\",\"XYLECO, INC.\",\"XYLECO, INC.\",\"XYLECO, INC. (Woburn, MA, US)\",\"XYLECO, INC. (Woburn, MA, US)\",\"XYLECO, INC. (Woburn, MA, US)\",\"Xyleco, Inc. (Woburn, MA, US)\",\"Xyleco, Inc. (Woburn, MA, US)\"],\"y\":[\"Bennett, Rick (Saskatoon, CA)\",\"Moeykens, Vincent (Burlington, VT, US)\",\"Wiegman, Herman (Essex Junction, VT, US)\",\"Berlowitz, Paul J. (Glen Gardner, NJ, US)                \\n                            Barckholtz, Timothy Andrew (Whitehouse Station, NJ, US)                \\n                            Hershkowitz, Frank H. (Basking Ridge, NJ, US)\",\"Shock, Ricky Dean (Victoria, TX, US)\",\"Pal, Sibtosh (Mason, OH, US)                \\n                            Vise, Steven Clayton (Loveland, OH, US)                \\n                            Johnson, Arthur Wesley (Cincinnati, OH, US)                \\n                            Cooper, Clayton Stuart (Loveland, OH, US)                \\n                            Zelina, Joseph (Waynesville, OH, US)\",\"Pal, Sibtosh (Mason, OH, US)                \\n                            Zelina, Joseph (Waynesville, OH, US)                \\n                            Johnson, Arthur Wesley (Cincinnati, OH, US)                \\n                            Cooper, Clayton Stuart (Loveland, OH, US)                \\n                            Vise, Steven Clayton (Loveland, OH, US)\",\"Reynolds, Brandon Allanson (Cincinnati, OH, US)                \\n                            Weaver, Matthew Mark (Loveland, OH, US)                \\n                            Kerns, Daniel Patrick (Mason, OH, US)\",\"Stuart, Alan Roy (Cincinnati, OH, US)                \\n                            Clements, Jeffrey Donald (Mason, OH, US)                \\n                            Schmidt, Richard (Loveland, OH, US)                \\n                            Moniz, Thomas Ory (Loveland, OH, US)\",\"Wang, Honggang (Clifton Park, NY, US)                \\n                            Benjamin, Michael Anthony (Cincinnati, OH, US)                \\n                            Hong, Seung-hyuck (Clifton Park, NY, US)                \\n                            Hart, Richard L. (Broadalbin, NY, US)\",\"Wohaibi, Mohammed (Nacogdoches, TX, US)                \\n                            Pruitt, Tom F. (Nacogdoches, TX, US)\",\"Mcalister, Roy E. (Phoenix, AZ, US)\",\"Mcalister, Roy Edward (Phoenix, AZ, US)\",\"Swann, Peter (Derby, GB)                \\n                            Beaven, David M. (Nottingham, GB)                \\n                            Bemment, Craig W. (Derby, GB)                \\n                            Hobday, Alastair G. (Derby, GB)                \\n                            Keeler, Benjamin J. (Derby, GB)                \\n                            Madden, Christopher P. (Derby, GB)                \\n                            Yates, Martin K. (East Haddon, GB)\",\"Swann, Peter (Derby, GB)                \\n                            Bemment, Craig W. (Derby, GB)                \\n                            Hobday, Alastair G. (Derby, GB)                \\n                            Keeler, Benjamin J. (Derby, GB)                \\n                            Madden, Christopher P. (Derby, GB)\",\"Swann, Peter (Derby, GB)                \\n                            Madden, Christopher P. (Derby, GB)                \\n                            Bemment, Craig W. (Derby, GB)\",\"Swann, Peter (Derby, GB)                \\n                            Beaven, David M. (Nottingham, GB)                \\n                            Bemment, Craig W. (Derby, GB)                \\n                            Hobday, Alastair G. (Derby, GB)                \\n                            Keeler, Benjamin J. (Derby, GB)                \\n                            Madden, Christopher P. (Derby, GB)                \\n                            Yates, Martin K. (East Haddon, GB)\",\"Swann, Peter (Derby, GB)                \\n                            Bemment, Craig W. (Derby, GB)                \\n                            Hobday, Alastair G. (Derby, GB)                \\n                            Keeler, Benjamin J. (Derby, GB)                \\n                            Madden, Christopher P. (Derby, GB)\",\"Swann, Peter (Derby, GB)                \\n                            Madden, Christopher P. (Derby, GB)                \\n                            Bemment, Craig W. (Derby, GB)\",\"Beaufrere, Henry Llewellyn (Mercer Island, WA, US)\",\"Medoff, Marshall (Brookline, MA, US)\",\"Medoff, Marshall (Brookline, MA, US)                \\n                            Masterman, Thomas Craig (Rockport, MA, US)\",\"Medoff, Marshall (Brookline, MA, US)\",\"Medoff, Marshall (Brookline, MA, US)                \\n                            Masterman, Thomas Craig (Brookline, MA, US)\",\"Medoff, Marshall (Brookline, MA, US)                \\n                            Masterman, Thomas Craig (Rockport, MA, US)\",\"Medoff, Marshall (Brookline, MA, US)\",\"Medoff, Marshall (Brookline, MA, US)                \\n                            Masterman, Thomas Craig (Brookline, MA, US)\"],\"z\":[10,8,14,7,18,13,5,5,6,6,13,13,21,2,2,1,8,7,4,5,13,1,22,2,5,17,3],\"type\":\"scatter3d\"}],                        {\"template\":{\"data\":{\"histogram2dcontour\":[{\"type\":\"histogram2dcontour\",\"colorbar\":{\"outlinewidth\":0,\"ticks\":\"\"},\"colorscale\":[[0.0,\"#0d0887\"],[0.1111111111111111,\"#46039f\"],[0.2222222222222222,\"#7201a8\"],[0.3333333333333333,\"#9c179e\"],[0.4444444444444444,\"#bd3786\"],[0.5555555555555556,\"#d8576b\"],[0.6666666666666666,\"#ed7953\"],[0.7777777777777778,\"#fb9f3a\"],[0.8888888888888888,\"#fdca26\"],[1.0,\"#f0f921\"]]}],\"choropleth\":[{\"type\":\"choropleth\",\"colorbar\":{\"outlinewidth\":0,\"ticks\":\"\"}}],\"histogram2d\":[{\"type\":\"histogram2d\",\"colorbar\":{\"outlinewidth\":0,\"ticks\":\"\"},\"colorscale\":[[0.0,\"#0d0887\"],[0.1111111111111111,\"#46039f\"],[0.2222222222222222,\"#7201a8\"],[0.3333333333333333,\"#9c179e\"],[0.4444444444444444,\"#bd3786\"],[0.5555555555555556,\"#d8576b\"],[0.6666666666666666,\"#ed7953\"],[0.7777777777777778,\"#fb9f3a\"],[0.8888888888888888,\"#fdca26\"],[1.0,\"#f0f921\"]]}],\"heatmap\":[{\"type\":\"heatmap\",\"colorbar\":{\"outlinewidth\":0,\"ticks\":\"\"},\"colorscale\":[[0.0,\"#0d0887\"],[0.1111111111111111,\"#46039f\"],[0.2222222222222222,\"#7201a8\"],[0.3333333333333333,\"#9c179e\"],[0.4444444444444444,\"#bd3786\"],[0.5555555555555556,\"#d8576b\"],[0.6666666666666666,\"#ed7953\"],[0.7777777777777778,\"#fb9f3a\"],[0.8888888888888888,\"#fdca26\"],[1.0,\"#f0f921\"]]}],\"heatmapgl\":[{\"type\":\"heatmapgl\",\"colorbar\":{\"outlinewidth\":0,\"ticks\":\"\"},\"colorscale\":[[0.0,\"#0d0887\"],[0.1111111111111111,\"#46039f\"],[0.2222222222222222,\"#7201a8\"],[0.3333333333333333,\"#9c179e\"],[0.4444444444444444,\"#bd3786\"],[0.5555555555555556,\"#d8576b\"],[0.6666666666666666,\"#ed7953\"],[0.7777777777777778,\"#fb9f3a\"],[0.8888888888888888,\"#fdca26\"],[1.0,\"#f0f921\"]]}],\"contourcarpet\":[{\"type\":\"contourcarpet\",\"colorbar\":{\"outlinewidth\":0,\"ticks\":\"\"}}],\"contour\":[{\"type\":\"contour\",\"colorbar\":{\"outlinewidth\":0,\"ticks\":\"\"},\"colorscale\":[[0.0,\"#0d0887\"],[0.1111111111111111,\"#46039f\"],[0.2222222222222222,\"#7201a8\"],[0.3333333333333333,\"#9c179e\"],[0.4444444444444444,\"#bd3786\"],[0.5555555555555556,\"#d8576b\"],[0.6666666666666666,\"#ed7953\"],[0.7777777777777778,\"#fb9f3a\"],[0.8888888888888888,\"#fdca26\"],[1.0,\"#f0f921\"]]}],\"surface\":[{\"type\":\"surface\",\"colorbar\":{\"outlinewidth\":0,\"ticks\":\"\"},\"colorscale\":[[0.0,\"#0d0887\"],[0.1111111111111111,\"#46039f\"],[0.2222222222222222,\"#7201a8\"],[0.3333333333333333,\"#9c179e\"],[0.4444444444444444,\"#bd3786\"],[0.5555555555555556,\"#d8576b\"],[0.6666666666666666,\"#ed7953\"],[0.7777777777777778,\"#fb9f3a\"],[0.8888888888888888,\"#fdca26\"],[1.0,\"#f0f921\"]]}],\"mesh3d\":[{\"type\":\"mesh3d\",\"colorbar\":{\"outlinewidth\":0,\"ticks\":\"\"}}],\"scatter\":[{\"fillpattern\":{\"fillmode\":\"overlay\",\"size\":10,\"solidity\":0.2},\"type\":\"scatter\"}],\"parcoords\":[{\"type\":\"parcoords\",\"line\":{\"colorbar\":{\"outlinewidth\":0,\"ticks\":\"\"}}}],\"scatterpolargl\":[{\"type\":\"scatterpolargl\",\"marker\":{\"colorbar\":{\"outlinewidth\":0,\"ticks\":\"\"}}}],\"bar\":[{\"error_x\":{\"color\":\"#2a3f5f\"},\"error_y\":{\"color\":\"#2a3f5f\"},\"marker\":{\"line\":{\"color\":\"#E5ECF6\",\"width\":0.5},\"pattern\":{\"fillmode\":\"overlay\",\"size\":10,\"solidity\":0.2}},\"type\":\"bar\"}],\"scattergeo\":[{\"type\":\"scattergeo\",\"marker\":{\"colorbar\":{\"outlinewidth\":0,\"ticks\":\"\"}}}],\"scatterpolar\":[{\"type\":\"scatterpolar\",\"marker\":{\"colorbar\":{\"outlinewidth\":0,\"ticks\":\"\"}}}],\"histogram\":[{\"marker\":{\"pattern\":{\"fillmode\":\"overlay\",\"size\":10,\"solidity\":0.2}},\"type\":\"histogram\"}],\"scattergl\":[{\"type\":\"scattergl\",\"marker\":{\"colorbar\":{\"outlinewidth\":0,\"ticks\":\"\"}}}],\"scatter3d\":[{\"type\":\"scatter3d\",\"line\":{\"colorbar\":{\"outlinewidth\":0,\"ticks\":\"\"}},\"marker\":{\"colorbar\":{\"outlinewidth\":0,\"ticks\":\"\"}}}],\"scattermapbox\":[{\"type\":\"scattermapbox\",\"marker\":{\"colorbar\":{\"outlinewidth\":0,\"ticks\":\"\"}}}],\"scatterternary\":[{\"type\":\"scatterternary\",\"marker\":{\"colorbar\":{\"outlinewidth\":0,\"ticks\":\"\"}}}],\"scattercarpet\":[{\"type\":\"scattercarpet\",\"marker\":{\"colorbar\":{\"outlinewidth\":0,\"ticks\":\"\"}}}],\"carpet\":[{\"aaxis\":{\"endlinecolor\":\"#2a3f5f\",\"gridcolor\":\"white\",\"linecolor\":\"white\",\"minorgridcolor\":\"white\",\"startlinecolor\":\"#2a3f5f\"},\"baxis\":{\"endlinecolor\":\"#2a3f5f\",\"gridcolor\":\"white\",\"linecolor\":\"white\",\"minorgridcolor\":\"white\",\"startlinecolor\":\"#2a3f5f\"},\"type\":\"carpet\"}],\"table\":[{\"cells\":{\"fill\":{\"color\":\"#EBF0F8\"},\"line\":{\"color\":\"white\"}},\"header\":{\"fill\":{\"color\":\"#C8D4E3\"},\"line\":{\"color\":\"white\"}},\"type\":\"table\"}],\"barpolar\":[{\"marker\":{\"line\":{\"color\":\"#E5ECF6\",\"width\":0.5},\"pattern\":{\"fillmode\":\"overlay\",\"size\":10,\"solidity\":0.2}},\"type\":\"barpolar\"}],\"pie\":[{\"automargin\":true,\"type\":\"pie\"}]},\"layout\":{\"autotypenumbers\":\"strict\",\"colorway\":[\"#636efa\",\"#EF553B\",\"#00cc96\",\"#ab63fa\",\"#FFA15A\",\"#19d3f3\",\"#FF6692\",\"#B6E880\",\"#FF97FF\",\"#FECB52\"],\"font\":{\"color\":\"#2a3f5f\"},\"hovermode\":\"closest\",\"hoverlabel\":{\"align\":\"left\"},\"paper_bgcolor\":\"white\",\"plot_bgcolor\":\"#E5ECF6\",\"polar\":{\"bgcolor\":\"#E5ECF6\",\"angularaxis\":{\"gridcolor\":\"white\",\"linecolor\":\"white\",\"ticks\":\"\"},\"radialaxis\":{\"gridcolor\":\"white\",\"linecolor\":\"white\",\"ticks\":\"\"}},\"ternary\":{\"bgcolor\":\"#E5ECF6\",\"aaxis\":{\"gridcolor\":\"white\",\"linecolor\":\"white\",\"ticks\":\"\"},\"baxis\":{\"gridcolor\":\"white\",\"linecolor\":\"white\",\"ticks\":\"\"},\"caxis\":{\"gridcolor\":\"white\",\"linecolor\":\"white\",\"ticks\":\"\"}},\"coloraxis\":{\"colorbar\":{\"outlinewidth\":0,\"ticks\":\"\"}},\"colorscale\":{\"sequential\":[[0.0,\"#0d0887\"],[0.1111111111111111,\"#46039f\"],[0.2222222222222222,\"#7201a8\"],[0.3333333333333333,\"#9c179e\"],[0.4444444444444444,\"#bd3786\"],[0.5555555555555556,\"#d8576b\"],[0.6666666666666666,\"#ed7953\"],[0.7777777777777778,\"#fb9f3a\"],[0.8888888888888888,\"#fdca26\"],[1.0,\"#f0f921\"]],\"sequentialminus\":[[0.0,\"#0d0887\"],[0.1111111111111111,\"#46039f\"],[0.2222222222222222,\"#7201a8\"],[0.3333333333333333,\"#9c179e\"],[0.4444444444444444,\"#bd3786\"],[0.5555555555555556,\"#d8576b\"],[0.6666666666666666,\"#ed7953\"],[0.7777777777777778,\"#fb9f3a\"],[0.8888888888888888,\"#fdca26\"],[1.0,\"#f0f921\"]],\"diverging\":[[0,\"#8e0152\"],[0.1,\"#c51b7d\"],[0.2,\"#de77ae\"],[0.3,\"#f1b6da\"],[0.4,\"#fde0ef\"],[0.5,\"#f7f7f7\"],[0.6,\"#e6f5d0\"],[0.7,\"#b8e186\"],[0.8,\"#7fbc41\"],[0.9,\"#4d9221\"],[1,\"#276419\"]]},\"xaxis\":{\"gridcolor\":\"white\",\"linecolor\":\"white\",\"ticks\":\"\",\"title\":{\"standoff\":15},\"zerolinecolor\":\"white\",\"automargin\":true,\"zerolinewidth\":2},\"yaxis\":{\"gridcolor\":\"white\",\"linecolor\":\"white\",\"ticks\":\"\",\"title\":{\"standoff\":15},\"zerolinecolor\":\"white\",\"automargin\":true,\"zerolinewidth\":2},\"scene\":{\"xaxis\":{\"backgroundcolor\":\"#E5ECF6\",\"gridcolor\":\"white\",\"linecolor\":\"white\",\"showbackground\":true,\"ticks\":\"\",\"zerolinecolor\":\"white\",\"gridwidth\":2},\"yaxis\":{\"backgroundcolor\":\"#E5ECF6\",\"gridcolor\":\"white\",\"linecolor\":\"white\",\"showbackground\":true,\"ticks\":\"\",\"zerolinecolor\":\"white\",\"gridwidth\":2},\"zaxis\":{\"backgroundcolor\":\"#E5ECF6\",\"gridcolor\":\"white\",\"linecolor\":\"white\",\"showbackground\":true,\"ticks\":\"\",\"zerolinecolor\":\"white\",\"gridwidth\":2}},\"shapedefaults\":{\"line\":{\"color\":\"#2a3f5f\"}},\"annotationdefaults\":{\"arrowcolor\":\"#2a3f5f\",\"arrowhead\":0,\"arrowwidth\":1},\"geo\":{\"bgcolor\":\"white\",\"landcolor\":\"#E5ECF6\",\"subunitcolor\":\"white\",\"showland\":true,\"showlakes\":true,\"lakecolor\":\"white\"},\"title\":{\"x\":0.05},\"mapbox\":{\"style\":\"light\"}}},\"scene\":{\"domain\":{\"x\":[0.0,1.0],\"y\":[0.0,1.0]},\"xaxis\":{\"title\":{\"text\":\"Assignee\"}},\"yaxis\":{\"title\":{\"text\":\"Inventor\"}},\"zaxis\":{\"title\":{\"text\":\"Document Count\"}}},\"legend\":{\"title\":{\"text\":\"Document Type\"},\"tracegroupgap\":0,\"itemsizing\":\"constant\"},\"title\":{\"text\":\"3D Visualization of Documents per Assignee and Inventor\"}},                        {\"responsive\": true}                    ).then(function(){\n",
       "                            \n",
       "var gd = document.getElementById('1313abfc-3dd4-4edf-9be9-b3924a443054');\n",
       "var x = new MutationObserver(function (mutations, observer) {{\n",
       "        var display = window.getComputedStyle(gd).display;\n",
       "        if (!display || display === 'none') {{\n",
       "            console.log([gd, 'removed!']);\n",
       "            Plotly.purge(gd);\n",
       "            observer.disconnect();\n",
       "        }}\n",
       "}});\n",
       "\n",
       "// Listen for the removal of the full notebook cells\n",
       "var notebookContainer = gd.closest('#notebook-container');\n",
       "if (notebookContainer) {{\n",
       "    x.observe(notebookContainer, {childList: true});\n",
       "}}\n",
       "\n",
       "// Listen for the clearing of the current output cell\n",
       "var outputEl = gd.closest('.output');\n",
       "if (outputEl) {{\n",
       "    x.observe(outputEl, {childList: true});\n",
       "}}\n",
       "\n",
       "                        })                };                });            </script>        </div>"
      ]
     },
     "metadata": {},
     "output_type": "display_data"
    }
   ],
   "source": [
    "import pandas as pd\n",
    "import plotly.express as px\n",
    "\n",
    "# Group by 'Assignee', 'Inventor Name', and 'Document Type', then count the occurrences\n",
    "documents_per_assignee_inventor = data.groupby(['Assignee', 'Inventor Name', 'Document Type']).size().reset_index(name='Document Count')\n",
    "\n",
    "# Sélectionner les 20 principaux assignés\n",
    "top_assignees = documents_per_assignee_inventor.groupby('Assignee')['Document Count'].sum().nlargest(20).index\n",
    "filtered_data = documents_per_assignee_inventor[documents_per_assignee_inventor['Assignee'].isin(top_assignees)]\n",
    "\n",
    "# Sélectionner les 20 principaux inventeurs\n",
    "top_inventors = filtered_data.groupby('Inventor Name')['Document Count'].sum().nlargest(20).index\n",
    "filtered_data = filtered_data[filtered_data['Inventor Name'].isin(top_inventors)]\n",
    "\n",
    "# Plotting a 3D scatter plot\n",
    "fig = px.scatter_3d(filtered_data, \n",
    "                    x='Assignee', \n",
    "                    y='Inventor Name', \n",
    "                    z='Document Count', \n",
    "                    color='Document Type', \n",
    "                    size='Document Count',\n",
    "                    title='3D Visualization of Documents per Assignee and Inventor',\n",
    "                    labels={'Assignee': 'Assignee', 'Inventor Name': 'Inventor', 'Document Count': 'Document Count'})\n",
    "\n",
    "# Show the plot\n",
    "fig.show()\n",
    "\n",
    "# Save the plot to an HTML file\n",
    "fig.write_html('documents_per_assignee_inventor_3d.html')\n"
   ]
  },
  {
   "cell_type": "code",
   "execution_count": 61,
   "id": "8aeb7d77",
   "metadata": {},
   "outputs": [],
   "source": [
    "fig.write_html('documents_per_assignee_inventor_3d.html')\n"
   ]
  },
  {
   "cell_type": "raw",
   "id": "1893b4ff",
   "metadata": {},
   "source": [
    "Relation entre Publication Date, Filing Date, et Document Number"
   ]
  },
  {
   "cell_type": "code",
   "execution_count": 69,
   "id": "ea70bc4b",
   "metadata": {
    "scrolled": true
   },
   "outputs": [],
   "source": [
    "documents_by_dates = data.groupby([data['Publication Date'].dt.year, data['Filing Date'].dt.year])['Document Number'].count().reset_index()\n",
    "\n"
   ]
  },
  {
   "cell_type": "code",
   "execution_count": 72,
   "id": "1d3b99a7",
   "metadata": {},
   "outputs": [
    {
     "data": {
      "application/vnd.plotly.v1+json": {
       "config": {
        "plotlyServerURL": "https://plot.ly"
       },
       "data": [
        {
         "hovertemplate": "Publication Year=%{x}<br>Filing Year=%{y}<br>Document Count=%{marker.color}<extra></extra>",
         "legendgroup": "",
         "marker": {
          "color": [
           1,
           2
          ],
          "coloraxis": "coloraxis",
          "size": [
           1,
           2
          ],
          "sizemode": "area",
          "sizeref": 0.005,
          "symbol": "circle"
         },
         "mode": "markers",
         "name": "",
         "scene": "scene",
         "showlegend": false,
         "type": "scatter3d",
         "x": [
          2020,
          2021
         ],
         "y": [
          2019,
          2020
         ],
         "z": [
          1,
          2
         ]
        }
       ],
       "layout": {
        "coloraxis": {
         "colorbar": {
          "title": {
           "text": "Document Count"
          }
         },
         "colorscale": [
          [
           0,
           "#0d0887"
          ],
          [
           0.1111111111111111,
           "#46039f"
          ],
          [
           0.2222222222222222,
           "#7201a8"
          ],
          [
           0.3333333333333333,
           "#9c179e"
          ],
          [
           0.4444444444444444,
           "#bd3786"
          ],
          [
           0.5555555555555556,
           "#d8576b"
          ],
          [
           0.6666666666666666,
           "#ed7953"
          ],
          [
           0.7777777777777778,
           "#fb9f3a"
          ],
          [
           0.8888888888888888,
           "#fdca26"
          ],
          [
           1,
           "#f0f921"
          ]
         ]
        },
        "legend": {
         "itemsizing": "constant",
         "tracegroupgap": 0
        },
        "scene": {
         "domain": {
          "x": [
           0,
           1
          ],
          "y": [
           0,
           1
          ]
         },
         "xaxis": {
          "title": {
           "text": "Publication Year"
          }
         },
         "yaxis": {
          "title": {
           "text": "Filing Year"
          }
         },
         "zaxis": {
          "title": {
           "text": "Document Count"
          }
         }
        },
        "template": {
         "data": {
          "bar": [
           {
            "error_x": {
             "color": "#2a3f5f"
            },
            "error_y": {
             "color": "#2a3f5f"
            },
            "marker": {
             "line": {
              "color": "#E5ECF6",
              "width": 0.5
             },
             "pattern": {
              "fillmode": "overlay",
              "size": 10,
              "solidity": 0.2
             }
            },
            "type": "bar"
           }
          ],
          "barpolar": [
           {
            "marker": {
             "line": {
              "color": "#E5ECF6",
              "width": 0.5
             },
             "pattern": {
              "fillmode": "overlay",
              "size": 10,
              "solidity": 0.2
             }
            },
            "type": "barpolar"
           }
          ],
          "carpet": [
           {
            "aaxis": {
             "endlinecolor": "#2a3f5f",
             "gridcolor": "white",
             "linecolor": "white",
             "minorgridcolor": "white",
             "startlinecolor": "#2a3f5f"
            },
            "baxis": {
             "endlinecolor": "#2a3f5f",
             "gridcolor": "white",
             "linecolor": "white",
             "minorgridcolor": "white",
             "startlinecolor": "#2a3f5f"
            },
            "type": "carpet"
           }
          ],
          "choropleth": [
           {
            "colorbar": {
             "outlinewidth": 0,
             "ticks": ""
            },
            "type": "choropleth"
           }
          ],
          "contour": [
           {
            "colorbar": {
             "outlinewidth": 0,
             "ticks": ""
            },
            "colorscale": [
             [
              0,
              "#0d0887"
             ],
             [
              0.1111111111111111,
              "#46039f"
             ],
             [
              0.2222222222222222,
              "#7201a8"
             ],
             [
              0.3333333333333333,
              "#9c179e"
             ],
             [
              0.4444444444444444,
              "#bd3786"
             ],
             [
              0.5555555555555556,
              "#d8576b"
             ],
             [
              0.6666666666666666,
              "#ed7953"
             ],
             [
              0.7777777777777778,
              "#fb9f3a"
             ],
             [
              0.8888888888888888,
              "#fdca26"
             ],
             [
              1,
              "#f0f921"
             ]
            ],
            "type": "contour"
           }
          ],
          "contourcarpet": [
           {
            "colorbar": {
             "outlinewidth": 0,
             "ticks": ""
            },
            "type": "contourcarpet"
           }
          ],
          "heatmap": [
           {
            "colorbar": {
             "outlinewidth": 0,
             "ticks": ""
            },
            "colorscale": [
             [
              0,
              "#0d0887"
             ],
             [
              0.1111111111111111,
              "#46039f"
             ],
             [
              0.2222222222222222,
              "#7201a8"
             ],
             [
              0.3333333333333333,
              "#9c179e"
             ],
             [
              0.4444444444444444,
              "#bd3786"
             ],
             [
              0.5555555555555556,
              "#d8576b"
             ],
             [
              0.6666666666666666,
              "#ed7953"
             ],
             [
              0.7777777777777778,
              "#fb9f3a"
             ],
             [
              0.8888888888888888,
              "#fdca26"
             ],
             [
              1,
              "#f0f921"
             ]
            ],
            "type": "heatmap"
           }
          ],
          "heatmapgl": [
           {
            "colorbar": {
             "outlinewidth": 0,
             "ticks": ""
            },
            "colorscale": [
             [
              0,
              "#0d0887"
             ],
             [
              0.1111111111111111,
              "#46039f"
             ],
             [
              0.2222222222222222,
              "#7201a8"
             ],
             [
              0.3333333333333333,
              "#9c179e"
             ],
             [
              0.4444444444444444,
              "#bd3786"
             ],
             [
              0.5555555555555556,
              "#d8576b"
             ],
             [
              0.6666666666666666,
              "#ed7953"
             ],
             [
              0.7777777777777778,
              "#fb9f3a"
             ],
             [
              0.8888888888888888,
              "#fdca26"
             ],
             [
              1,
              "#f0f921"
             ]
            ],
            "type": "heatmapgl"
           }
          ],
          "histogram": [
           {
            "marker": {
             "pattern": {
              "fillmode": "overlay",
              "size": 10,
              "solidity": 0.2
             }
            },
            "type": "histogram"
           }
          ],
          "histogram2d": [
           {
            "colorbar": {
             "outlinewidth": 0,
             "ticks": ""
            },
            "colorscale": [
             [
              0,
              "#0d0887"
             ],
             [
              0.1111111111111111,
              "#46039f"
             ],
             [
              0.2222222222222222,
              "#7201a8"
             ],
             [
              0.3333333333333333,
              "#9c179e"
             ],
             [
              0.4444444444444444,
              "#bd3786"
             ],
             [
              0.5555555555555556,
              "#d8576b"
             ],
             [
              0.6666666666666666,
              "#ed7953"
             ],
             [
              0.7777777777777778,
              "#fb9f3a"
             ],
             [
              0.8888888888888888,
              "#fdca26"
             ],
             [
              1,
              "#f0f921"
             ]
            ],
            "type": "histogram2d"
           }
          ],
          "histogram2dcontour": [
           {
            "colorbar": {
             "outlinewidth": 0,
             "ticks": ""
            },
            "colorscale": [
             [
              0,
              "#0d0887"
             ],
             [
              0.1111111111111111,
              "#46039f"
             ],
             [
              0.2222222222222222,
              "#7201a8"
             ],
             [
              0.3333333333333333,
              "#9c179e"
             ],
             [
              0.4444444444444444,
              "#bd3786"
             ],
             [
              0.5555555555555556,
              "#d8576b"
             ],
             [
              0.6666666666666666,
              "#ed7953"
             ],
             [
              0.7777777777777778,
              "#fb9f3a"
             ],
             [
              0.8888888888888888,
              "#fdca26"
             ],
             [
              1,
              "#f0f921"
             ]
            ],
            "type": "histogram2dcontour"
           }
          ],
          "mesh3d": [
           {
            "colorbar": {
             "outlinewidth": 0,
             "ticks": ""
            },
            "type": "mesh3d"
           }
          ],
          "parcoords": [
           {
            "line": {
             "colorbar": {
              "outlinewidth": 0,
              "ticks": ""
             }
            },
            "type": "parcoords"
           }
          ],
          "pie": [
           {
            "automargin": true,
            "type": "pie"
           }
          ],
          "scatter": [
           {
            "fillpattern": {
             "fillmode": "overlay",
             "size": 10,
             "solidity": 0.2
            },
            "type": "scatter"
           }
          ],
          "scatter3d": [
           {
            "line": {
             "colorbar": {
              "outlinewidth": 0,
              "ticks": ""
             }
            },
            "marker": {
             "colorbar": {
              "outlinewidth": 0,
              "ticks": ""
             }
            },
            "type": "scatter3d"
           }
          ],
          "scattercarpet": [
           {
            "marker": {
             "colorbar": {
              "outlinewidth": 0,
              "ticks": ""
             }
            },
            "type": "scattercarpet"
           }
          ],
          "scattergeo": [
           {
            "marker": {
             "colorbar": {
              "outlinewidth": 0,
              "ticks": ""
             }
            },
            "type": "scattergeo"
           }
          ],
          "scattergl": [
           {
            "marker": {
             "colorbar": {
              "outlinewidth": 0,
              "ticks": ""
             }
            },
            "type": "scattergl"
           }
          ],
          "scattermapbox": [
           {
            "marker": {
             "colorbar": {
              "outlinewidth": 0,
              "ticks": ""
             }
            },
            "type": "scattermapbox"
           }
          ],
          "scatterpolar": [
           {
            "marker": {
             "colorbar": {
              "outlinewidth": 0,
              "ticks": ""
             }
            },
            "type": "scatterpolar"
           }
          ],
          "scatterpolargl": [
           {
            "marker": {
             "colorbar": {
              "outlinewidth": 0,
              "ticks": ""
             }
            },
            "type": "scatterpolargl"
           }
          ],
          "scatterternary": [
           {
            "marker": {
             "colorbar": {
              "outlinewidth": 0,
              "ticks": ""
             }
            },
            "type": "scatterternary"
           }
          ],
          "surface": [
           {
            "colorbar": {
             "outlinewidth": 0,
             "ticks": ""
            },
            "colorscale": [
             [
              0,
              "#0d0887"
             ],
             [
              0.1111111111111111,
              "#46039f"
             ],
             [
              0.2222222222222222,
              "#7201a8"
             ],
             [
              0.3333333333333333,
              "#9c179e"
             ],
             [
              0.4444444444444444,
              "#bd3786"
             ],
             [
              0.5555555555555556,
              "#d8576b"
             ],
             [
              0.6666666666666666,
              "#ed7953"
             ],
             [
              0.7777777777777778,
              "#fb9f3a"
             ],
             [
              0.8888888888888888,
              "#fdca26"
             ],
             [
              1,
              "#f0f921"
             ]
            ],
            "type": "surface"
           }
          ],
          "table": [
           {
            "cells": {
             "fill": {
              "color": "#EBF0F8"
             },
             "line": {
              "color": "white"
             }
            },
            "header": {
             "fill": {
              "color": "#C8D4E3"
             },
             "line": {
              "color": "white"
             }
            },
            "type": "table"
           }
          ]
         },
         "layout": {
          "annotationdefaults": {
           "arrowcolor": "#2a3f5f",
           "arrowhead": 0,
           "arrowwidth": 1
          },
          "autotypenumbers": "strict",
          "coloraxis": {
           "colorbar": {
            "outlinewidth": 0,
            "ticks": ""
           }
          },
          "colorscale": {
           "diverging": [
            [
             0,
             "#8e0152"
            ],
            [
             0.1,
             "#c51b7d"
            ],
            [
             0.2,
             "#de77ae"
            ],
            [
             0.3,
             "#f1b6da"
            ],
            [
             0.4,
             "#fde0ef"
            ],
            [
             0.5,
             "#f7f7f7"
            ],
            [
             0.6,
             "#e6f5d0"
            ],
            [
             0.7,
             "#b8e186"
            ],
            [
             0.8,
             "#7fbc41"
            ],
            [
             0.9,
             "#4d9221"
            ],
            [
             1,
             "#276419"
            ]
           ],
           "sequential": [
            [
             0,
             "#0d0887"
            ],
            [
             0.1111111111111111,
             "#46039f"
            ],
            [
             0.2222222222222222,
             "#7201a8"
            ],
            [
             0.3333333333333333,
             "#9c179e"
            ],
            [
             0.4444444444444444,
             "#bd3786"
            ],
            [
             0.5555555555555556,
             "#d8576b"
            ],
            [
             0.6666666666666666,
             "#ed7953"
            ],
            [
             0.7777777777777778,
             "#fb9f3a"
            ],
            [
             0.8888888888888888,
             "#fdca26"
            ],
            [
             1,
             "#f0f921"
            ]
           ],
           "sequentialminus": [
            [
             0,
             "#0d0887"
            ],
            [
             0.1111111111111111,
             "#46039f"
            ],
            [
             0.2222222222222222,
             "#7201a8"
            ],
            [
             0.3333333333333333,
             "#9c179e"
            ],
            [
             0.4444444444444444,
             "#bd3786"
            ],
            [
             0.5555555555555556,
             "#d8576b"
            ],
            [
             0.6666666666666666,
             "#ed7953"
            ],
            [
             0.7777777777777778,
             "#fb9f3a"
            ],
            [
             0.8888888888888888,
             "#fdca26"
            ],
            [
             1,
             "#f0f921"
            ]
           ]
          },
          "colorway": [
           "#636efa",
           "#EF553B",
           "#00cc96",
           "#ab63fa",
           "#FFA15A",
           "#19d3f3",
           "#FF6692",
           "#B6E880",
           "#FF97FF",
           "#FECB52"
          ],
          "font": {
           "color": "#2a3f5f"
          },
          "geo": {
           "bgcolor": "white",
           "lakecolor": "white",
           "landcolor": "#E5ECF6",
           "showlakes": true,
           "showland": true,
           "subunitcolor": "white"
          },
          "hoverlabel": {
           "align": "left"
          },
          "hovermode": "closest",
          "mapbox": {
           "style": "light"
          },
          "paper_bgcolor": "white",
          "plot_bgcolor": "#E5ECF6",
          "polar": {
           "angularaxis": {
            "gridcolor": "white",
            "linecolor": "white",
            "ticks": ""
           },
           "bgcolor": "#E5ECF6",
           "radialaxis": {
            "gridcolor": "white",
            "linecolor": "white",
            "ticks": ""
           }
          },
          "scene": {
           "xaxis": {
            "backgroundcolor": "#E5ECF6",
            "gridcolor": "white",
            "gridwidth": 2,
            "linecolor": "white",
            "showbackground": true,
            "ticks": "",
            "zerolinecolor": "white"
           },
           "yaxis": {
            "backgroundcolor": "#E5ECF6",
            "gridcolor": "white",
            "gridwidth": 2,
            "linecolor": "white",
            "showbackground": true,
            "ticks": "",
            "zerolinecolor": "white"
           },
           "zaxis": {
            "backgroundcolor": "#E5ECF6",
            "gridcolor": "white",
            "gridwidth": 2,
            "linecolor": "white",
            "showbackground": true,
            "ticks": "",
            "zerolinecolor": "white"
           }
          },
          "shapedefaults": {
           "line": {
            "color": "#2a3f5f"
           }
          },
          "ternary": {
           "aaxis": {
            "gridcolor": "white",
            "linecolor": "white",
            "ticks": ""
           },
           "baxis": {
            "gridcolor": "white",
            "linecolor": "white",
            "ticks": ""
           },
           "bgcolor": "#E5ECF6",
           "caxis": {
            "gridcolor": "white",
            "linecolor": "white",
            "ticks": ""
           }
          },
          "title": {
           "x": 0.05
          },
          "xaxis": {
           "automargin": true,
           "gridcolor": "white",
           "linecolor": "white",
           "ticks": "",
           "title": {
            "standoff": 15
           },
           "zerolinecolor": "white",
           "zerolinewidth": 2
          },
          "yaxis": {
           "automargin": true,
           "gridcolor": "white",
           "linecolor": "white",
           "ticks": "",
           "title": {
            "standoff": 15
           },
           "zerolinecolor": "white",
           "zerolinewidth": 2
          }
         }
        },
        "title": {
         "text": "Number of Documents by Publication and Filing Year"
        }
       }
      },
      "text/html": [
       "<div>                            <div id=\"3cd745f3-791e-413d-be8b-37ef4f7c4c70\" class=\"plotly-graph-div\" style=\"height:525px; width:100%;\"></div>            <script type=\"text/javascript\">                require([\"plotly\"], function(Plotly) {                    window.PLOTLYENV=window.PLOTLYENV || {};                                    if (document.getElementById(\"3cd745f3-791e-413d-be8b-37ef4f7c4c70\")) {                    Plotly.newPlot(                        \"3cd745f3-791e-413d-be8b-37ef4f7c4c70\",                        [{\"hovertemplate\":\"Publication Year=%{x}<br>Filing Year=%{y}<br>Document Count=%{marker.color}<extra></extra>\",\"legendgroup\":\"\",\"marker\":{\"color\":[1,2],\"coloraxis\":\"coloraxis\",\"size\":[1,2],\"sizemode\":\"area\",\"sizeref\":0.005,\"symbol\":\"circle\"},\"mode\":\"markers\",\"name\":\"\",\"scene\":\"scene\",\"showlegend\":false,\"x\":[2020,2021],\"y\":[2019,2020],\"z\":[1,2],\"type\":\"scatter3d\"}],                        {\"template\":{\"data\":{\"histogram2dcontour\":[{\"type\":\"histogram2dcontour\",\"colorbar\":{\"outlinewidth\":0,\"ticks\":\"\"},\"colorscale\":[[0.0,\"#0d0887\"],[0.1111111111111111,\"#46039f\"],[0.2222222222222222,\"#7201a8\"],[0.3333333333333333,\"#9c179e\"],[0.4444444444444444,\"#bd3786\"],[0.5555555555555556,\"#d8576b\"],[0.6666666666666666,\"#ed7953\"],[0.7777777777777778,\"#fb9f3a\"],[0.8888888888888888,\"#fdca26\"],[1.0,\"#f0f921\"]]}],\"choropleth\":[{\"type\":\"choropleth\",\"colorbar\":{\"outlinewidth\":0,\"ticks\":\"\"}}],\"histogram2d\":[{\"type\":\"histogram2d\",\"colorbar\":{\"outlinewidth\":0,\"ticks\":\"\"},\"colorscale\":[[0.0,\"#0d0887\"],[0.1111111111111111,\"#46039f\"],[0.2222222222222222,\"#7201a8\"],[0.3333333333333333,\"#9c179e\"],[0.4444444444444444,\"#bd3786\"],[0.5555555555555556,\"#d8576b\"],[0.6666666666666666,\"#ed7953\"],[0.7777777777777778,\"#fb9f3a\"],[0.8888888888888888,\"#fdca26\"],[1.0,\"#f0f921\"]]}],\"heatmap\":[{\"type\":\"heatmap\",\"colorbar\":{\"outlinewidth\":0,\"ticks\":\"\"},\"colorscale\":[[0.0,\"#0d0887\"],[0.1111111111111111,\"#46039f\"],[0.2222222222222222,\"#7201a8\"],[0.3333333333333333,\"#9c179e\"],[0.4444444444444444,\"#bd3786\"],[0.5555555555555556,\"#d8576b\"],[0.6666666666666666,\"#ed7953\"],[0.7777777777777778,\"#fb9f3a\"],[0.8888888888888888,\"#fdca26\"],[1.0,\"#f0f921\"]]}],\"heatmapgl\":[{\"type\":\"heatmapgl\",\"colorbar\":{\"outlinewidth\":0,\"ticks\":\"\"},\"colorscale\":[[0.0,\"#0d0887\"],[0.1111111111111111,\"#46039f\"],[0.2222222222222222,\"#7201a8\"],[0.3333333333333333,\"#9c179e\"],[0.4444444444444444,\"#bd3786\"],[0.5555555555555556,\"#d8576b\"],[0.6666666666666666,\"#ed7953\"],[0.7777777777777778,\"#fb9f3a\"],[0.8888888888888888,\"#fdca26\"],[1.0,\"#f0f921\"]]}],\"contourcarpet\":[{\"type\":\"contourcarpet\",\"colorbar\":{\"outlinewidth\":0,\"ticks\":\"\"}}],\"contour\":[{\"type\":\"contour\",\"colorbar\":{\"outlinewidth\":0,\"ticks\":\"\"},\"colorscale\":[[0.0,\"#0d0887\"],[0.1111111111111111,\"#46039f\"],[0.2222222222222222,\"#7201a8\"],[0.3333333333333333,\"#9c179e\"],[0.4444444444444444,\"#bd3786\"],[0.5555555555555556,\"#d8576b\"],[0.6666666666666666,\"#ed7953\"],[0.7777777777777778,\"#fb9f3a\"],[0.8888888888888888,\"#fdca26\"],[1.0,\"#f0f921\"]]}],\"surface\":[{\"type\":\"surface\",\"colorbar\":{\"outlinewidth\":0,\"ticks\":\"\"},\"colorscale\":[[0.0,\"#0d0887\"],[0.1111111111111111,\"#46039f\"],[0.2222222222222222,\"#7201a8\"],[0.3333333333333333,\"#9c179e\"],[0.4444444444444444,\"#bd3786\"],[0.5555555555555556,\"#d8576b\"],[0.6666666666666666,\"#ed7953\"],[0.7777777777777778,\"#fb9f3a\"],[0.8888888888888888,\"#fdca26\"],[1.0,\"#f0f921\"]]}],\"mesh3d\":[{\"type\":\"mesh3d\",\"colorbar\":{\"outlinewidth\":0,\"ticks\":\"\"}}],\"scatter\":[{\"fillpattern\":{\"fillmode\":\"overlay\",\"size\":10,\"solidity\":0.2},\"type\":\"scatter\"}],\"parcoords\":[{\"type\":\"parcoords\",\"line\":{\"colorbar\":{\"outlinewidth\":0,\"ticks\":\"\"}}}],\"scatterpolargl\":[{\"type\":\"scatterpolargl\",\"marker\":{\"colorbar\":{\"outlinewidth\":0,\"ticks\":\"\"}}}],\"bar\":[{\"error_x\":{\"color\":\"#2a3f5f\"},\"error_y\":{\"color\":\"#2a3f5f\"},\"marker\":{\"line\":{\"color\":\"#E5ECF6\",\"width\":0.5},\"pattern\":{\"fillmode\":\"overlay\",\"size\":10,\"solidity\":0.2}},\"type\":\"bar\"}],\"scattergeo\":[{\"type\":\"scattergeo\",\"marker\":{\"colorbar\":{\"outlinewidth\":0,\"ticks\":\"\"}}}],\"scatterpolar\":[{\"type\":\"scatterpolar\",\"marker\":{\"colorbar\":{\"outlinewidth\":0,\"ticks\":\"\"}}}],\"histogram\":[{\"marker\":{\"pattern\":{\"fillmode\":\"overlay\",\"size\":10,\"solidity\":0.2}},\"type\":\"histogram\"}],\"scattergl\":[{\"type\":\"scattergl\",\"marker\":{\"colorbar\":{\"outlinewidth\":0,\"ticks\":\"\"}}}],\"scatter3d\":[{\"type\":\"scatter3d\",\"line\":{\"colorbar\":{\"outlinewidth\":0,\"ticks\":\"\"}},\"marker\":{\"colorbar\":{\"outlinewidth\":0,\"ticks\":\"\"}}}],\"scattermapbox\":[{\"type\":\"scattermapbox\",\"marker\":{\"colorbar\":{\"outlinewidth\":0,\"ticks\":\"\"}}}],\"scatterternary\":[{\"type\":\"scatterternary\",\"marker\":{\"colorbar\":{\"outlinewidth\":0,\"ticks\":\"\"}}}],\"scattercarpet\":[{\"type\":\"scattercarpet\",\"marker\":{\"colorbar\":{\"outlinewidth\":0,\"ticks\":\"\"}}}],\"carpet\":[{\"aaxis\":{\"endlinecolor\":\"#2a3f5f\",\"gridcolor\":\"white\",\"linecolor\":\"white\",\"minorgridcolor\":\"white\",\"startlinecolor\":\"#2a3f5f\"},\"baxis\":{\"endlinecolor\":\"#2a3f5f\",\"gridcolor\":\"white\",\"linecolor\":\"white\",\"minorgridcolor\":\"white\",\"startlinecolor\":\"#2a3f5f\"},\"type\":\"carpet\"}],\"table\":[{\"cells\":{\"fill\":{\"color\":\"#EBF0F8\"},\"line\":{\"color\":\"white\"}},\"header\":{\"fill\":{\"color\":\"#C8D4E3\"},\"line\":{\"color\":\"white\"}},\"type\":\"table\"}],\"barpolar\":[{\"marker\":{\"line\":{\"color\":\"#E5ECF6\",\"width\":0.5},\"pattern\":{\"fillmode\":\"overlay\",\"size\":10,\"solidity\":0.2}},\"type\":\"barpolar\"}],\"pie\":[{\"automargin\":true,\"type\":\"pie\"}]},\"layout\":{\"autotypenumbers\":\"strict\",\"colorway\":[\"#636efa\",\"#EF553B\",\"#00cc96\",\"#ab63fa\",\"#FFA15A\",\"#19d3f3\",\"#FF6692\",\"#B6E880\",\"#FF97FF\",\"#FECB52\"],\"font\":{\"color\":\"#2a3f5f\"},\"hovermode\":\"closest\",\"hoverlabel\":{\"align\":\"left\"},\"paper_bgcolor\":\"white\",\"plot_bgcolor\":\"#E5ECF6\",\"polar\":{\"bgcolor\":\"#E5ECF6\",\"angularaxis\":{\"gridcolor\":\"white\",\"linecolor\":\"white\",\"ticks\":\"\"},\"radialaxis\":{\"gridcolor\":\"white\",\"linecolor\":\"white\",\"ticks\":\"\"}},\"ternary\":{\"bgcolor\":\"#E5ECF6\",\"aaxis\":{\"gridcolor\":\"white\",\"linecolor\":\"white\",\"ticks\":\"\"},\"baxis\":{\"gridcolor\":\"white\",\"linecolor\":\"white\",\"ticks\":\"\"},\"caxis\":{\"gridcolor\":\"white\",\"linecolor\":\"white\",\"ticks\":\"\"}},\"coloraxis\":{\"colorbar\":{\"outlinewidth\":0,\"ticks\":\"\"}},\"colorscale\":{\"sequential\":[[0.0,\"#0d0887\"],[0.1111111111111111,\"#46039f\"],[0.2222222222222222,\"#7201a8\"],[0.3333333333333333,\"#9c179e\"],[0.4444444444444444,\"#bd3786\"],[0.5555555555555556,\"#d8576b\"],[0.6666666666666666,\"#ed7953\"],[0.7777777777777778,\"#fb9f3a\"],[0.8888888888888888,\"#fdca26\"],[1.0,\"#f0f921\"]],\"sequentialminus\":[[0.0,\"#0d0887\"],[0.1111111111111111,\"#46039f\"],[0.2222222222222222,\"#7201a8\"],[0.3333333333333333,\"#9c179e\"],[0.4444444444444444,\"#bd3786\"],[0.5555555555555556,\"#d8576b\"],[0.6666666666666666,\"#ed7953\"],[0.7777777777777778,\"#fb9f3a\"],[0.8888888888888888,\"#fdca26\"],[1.0,\"#f0f921\"]],\"diverging\":[[0,\"#8e0152\"],[0.1,\"#c51b7d\"],[0.2,\"#de77ae\"],[0.3,\"#f1b6da\"],[0.4,\"#fde0ef\"],[0.5,\"#f7f7f7\"],[0.6,\"#e6f5d0\"],[0.7,\"#b8e186\"],[0.8,\"#7fbc41\"],[0.9,\"#4d9221\"],[1,\"#276419\"]]},\"xaxis\":{\"gridcolor\":\"white\",\"linecolor\":\"white\",\"ticks\":\"\",\"title\":{\"standoff\":15},\"zerolinecolor\":\"white\",\"automargin\":true,\"zerolinewidth\":2},\"yaxis\":{\"gridcolor\":\"white\",\"linecolor\":\"white\",\"ticks\":\"\",\"title\":{\"standoff\":15},\"zerolinecolor\":\"white\",\"automargin\":true,\"zerolinewidth\":2},\"scene\":{\"xaxis\":{\"backgroundcolor\":\"#E5ECF6\",\"gridcolor\":\"white\",\"linecolor\":\"white\",\"showbackground\":true,\"ticks\":\"\",\"zerolinecolor\":\"white\",\"gridwidth\":2},\"yaxis\":{\"backgroundcolor\":\"#E5ECF6\",\"gridcolor\":\"white\",\"linecolor\":\"white\",\"showbackground\":true,\"ticks\":\"\",\"zerolinecolor\":\"white\",\"gridwidth\":2},\"zaxis\":{\"backgroundcolor\":\"#E5ECF6\",\"gridcolor\":\"white\",\"linecolor\":\"white\",\"showbackground\":true,\"ticks\":\"\",\"zerolinecolor\":\"white\",\"gridwidth\":2}},\"shapedefaults\":{\"line\":{\"color\":\"#2a3f5f\"}},\"annotationdefaults\":{\"arrowcolor\":\"#2a3f5f\",\"arrowhead\":0,\"arrowwidth\":1},\"geo\":{\"bgcolor\":\"white\",\"landcolor\":\"#E5ECF6\",\"subunitcolor\":\"white\",\"showland\":true,\"showlakes\":true,\"lakecolor\":\"white\"},\"title\":{\"x\":0.05},\"mapbox\":{\"style\":\"light\"}}},\"scene\":{\"domain\":{\"x\":[0.0,1.0],\"y\":[0.0,1.0]},\"xaxis\":{\"title\":{\"text\":\"Publication Year\"}},\"yaxis\":{\"title\":{\"text\":\"Filing Year\"}},\"zaxis\":{\"title\":{\"text\":\"Document Count\"}}},\"coloraxis\":{\"colorbar\":{\"title\":{\"text\":\"Document Count\"}},\"colorscale\":[[0.0,\"#0d0887\"],[0.1111111111111111,\"#46039f\"],[0.2222222222222222,\"#7201a8\"],[0.3333333333333333,\"#9c179e\"],[0.4444444444444444,\"#bd3786\"],[0.5555555555555556,\"#d8576b\"],[0.6666666666666666,\"#ed7953\"],[0.7777777777777778,\"#fb9f3a\"],[0.8888888888888888,\"#fdca26\"],[1.0,\"#f0f921\"]]},\"legend\":{\"tracegroupgap\":0,\"itemsizing\":\"constant\"},\"title\":{\"text\":\"Number of Documents by Publication and Filing Year\"}},                        {\"responsive\": true}                    ).then(function(){\n",
       "                            \n",
       "var gd = document.getElementById('3cd745f3-791e-413d-be8b-37ef4f7c4c70');\n",
       "var x = new MutationObserver(function (mutations, observer) {{\n",
       "        var display = window.getComputedStyle(gd).display;\n",
       "        if (!display || display === 'none') {{\n",
       "            console.log([gd, 'removed!']);\n",
       "            Plotly.purge(gd);\n",
       "            observer.disconnect();\n",
       "        }}\n",
       "}});\n",
       "\n",
       "// Listen for the removal of the full notebook cells\n",
       "var notebookContainer = gd.closest('#notebook-container');\n",
       "if (notebookContainer) {{\n",
       "    x.observe(notebookContainer, {childList: true});\n",
       "}}\n",
       "\n",
       "// Listen for the clearing of the current output cell\n",
       "var outputEl = gd.closest('.output');\n",
       "if (outputEl) {{\n",
       "    x.observe(outputEl, {childList: true});\n",
       "}}\n",
       "\n",
       "                        })                };                });            </script>        </div>"
      ]
     },
     "metadata": {},
     "output_type": "display_data"
    }
   ],
   "source": [
    "documents_by_dates.columns = ['Publication Year', 'Filing Year', 'Document Count']\n",
    "\n",
    "fig = px.scatter_3d(documents_by_dates, x='Publication Year', y='Filing Year', z='Document Count',\n",
    "                    color='Document Count', size='Document Count', size_max=20,\n",
    "                    title='Number of Documents by Publication and Filing Year')\n",
    "\n",
    "fig.show()"
   ]
  },
  {
   "cell_type": "code",
   "execution_count": 73,
   "id": "466d808f",
   "metadata": {},
   "outputs": [],
   "source": [
    "fig.write_html(\"3d_visualization.html\")\n"
   ]
  },
  {
   "cell_type": "code",
   "execution_count": 75,
   "id": "dc47595d",
   "metadata": {},
   "outputs": [
    {
     "data": {
      "application/vnd.plotly.v1+json": {
       "config": {
        "plotlyServerURL": "https://plot.ly"
       },
       "data": [
        {
         "hovertemplate": "Publication Year=%{x}<br>Filing Year=%{y}<br>Document Count=%{marker.color}<extra></extra>",
         "legendgroup": "",
         "marker": {
          "color": [
           5,
           2,
           7,
           2,
           6,
           2,
           1,
           3,
           2,
           2,
           1,
           2,
           2,
           3,
           1,
           7,
           1,
           5,
           3,
           1,
           3,
           3,
           2,
           4,
           3,
           3,
           3,
           1,
           2,
           2,
           5,
           2,
           1,
           4,
           1,
           1,
           2
          ],
          "coloraxis": "coloraxis",
          "size": [
           5,
           2,
           7,
           2,
           6,
           2,
           1,
           3,
           2,
           2,
           1,
           2,
           2,
           3,
           1,
           7,
           1,
           5,
           3,
           1,
           3,
           3,
           2,
           4,
           3,
           3,
           3,
           1,
           2,
           2,
           5,
           2,
           1,
           4,
           1,
           1,
           2
          ],
          "sizemode": "area",
          "sizeref": 0.0175,
          "symbol": "circle"
         },
         "mode": "markers",
         "name": "",
         "scene": "scene",
         "showlegend": false,
         "type": "scatter3d",
         "x": [
          2018,
          2018,
          2018,
          2018,
          2018,
          2018,
          2018,
          2019,
          2019,
          2019,
          2019,
          2019,
          2020,
          2020,
          2020,
          2020,
          2020,
          2021,
          2021,
          2021,
          2021,
          2021,
          2021,
          2021,
          2022,
          2022,
          2022,
          2022,
          2022,
          2022,
          2022,
          2023,
          2023,
          2023,
          2023,
          2023,
          2023
         ],
         "y": [
          2017,
          2018,
          2019,
          2020,
          2021,
          2022,
          2023,
          2017,
          2018,
          2021,
          2022,
          2023,
          2018,
          2019,
          2020,
          2022,
          2023,
          2017,
          2018,
          2019,
          2020,
          2021,
          2022,
          2023,
          2017,
          2018,
          2019,
          2020,
          2021,
          2022,
          2023,
          2017,
          2018,
          2019,
          2020,
          2021,
          2022
         ],
         "z": [
          5,
          2,
          7,
          2,
          6,
          2,
          1,
          3,
          2,
          2,
          1,
          2,
          2,
          3,
          1,
          7,
          1,
          5,
          3,
          1,
          3,
          3,
          2,
          4,
          3,
          3,
          3,
          1,
          2,
          2,
          5,
          2,
          1,
          4,
          1,
          1,
          2
         ]
        }
       ],
       "layout": {
        "coloraxis": {
         "colorbar": {
          "title": {
           "text": "Document Count"
          }
         },
         "colorscale": [
          [
           0,
           "#0d0887"
          ],
          [
           0.1111111111111111,
           "#46039f"
          ],
          [
           0.2222222222222222,
           "#7201a8"
          ],
          [
           0.3333333333333333,
           "#9c179e"
          ],
          [
           0.4444444444444444,
           "#bd3786"
          ],
          [
           0.5555555555555556,
           "#d8576b"
          ],
          [
           0.6666666666666666,
           "#ed7953"
          ],
          [
           0.7777777777777778,
           "#fb9f3a"
          ],
          [
           0.8888888888888888,
           "#fdca26"
          ],
          [
           1,
           "#f0f921"
          ]
         ]
        },
        "legend": {
         "itemsizing": "constant",
         "tracegroupgap": 0
        },
        "scene": {
         "domain": {
          "x": [
           0,
           1
          ],
          "y": [
           0,
           1
          ]
         },
         "xaxis": {
          "title": {
           "text": "Publication Year"
          }
         },
         "yaxis": {
          "title": {
           "text": "Filing Year"
          }
         },
         "zaxis": {
          "title": {
           "text": "Document Count"
          }
         }
        },
        "template": {
         "data": {
          "bar": [
           {
            "error_x": {
             "color": "#2a3f5f"
            },
            "error_y": {
             "color": "#2a3f5f"
            },
            "marker": {
             "line": {
              "color": "#E5ECF6",
              "width": 0.5
             },
             "pattern": {
              "fillmode": "overlay",
              "size": 10,
              "solidity": 0.2
             }
            },
            "type": "bar"
           }
          ],
          "barpolar": [
           {
            "marker": {
             "line": {
              "color": "#E5ECF6",
              "width": 0.5
             },
             "pattern": {
              "fillmode": "overlay",
              "size": 10,
              "solidity": 0.2
             }
            },
            "type": "barpolar"
           }
          ],
          "carpet": [
           {
            "aaxis": {
             "endlinecolor": "#2a3f5f",
             "gridcolor": "white",
             "linecolor": "white",
             "minorgridcolor": "white",
             "startlinecolor": "#2a3f5f"
            },
            "baxis": {
             "endlinecolor": "#2a3f5f",
             "gridcolor": "white",
             "linecolor": "white",
             "minorgridcolor": "white",
             "startlinecolor": "#2a3f5f"
            },
            "type": "carpet"
           }
          ],
          "choropleth": [
           {
            "colorbar": {
             "outlinewidth": 0,
             "ticks": ""
            },
            "type": "choropleth"
           }
          ],
          "contour": [
           {
            "colorbar": {
             "outlinewidth": 0,
             "ticks": ""
            },
            "colorscale": [
             [
              0,
              "#0d0887"
             ],
             [
              0.1111111111111111,
              "#46039f"
             ],
             [
              0.2222222222222222,
              "#7201a8"
             ],
             [
              0.3333333333333333,
              "#9c179e"
             ],
             [
              0.4444444444444444,
              "#bd3786"
             ],
             [
              0.5555555555555556,
              "#d8576b"
             ],
             [
              0.6666666666666666,
              "#ed7953"
             ],
             [
              0.7777777777777778,
              "#fb9f3a"
             ],
             [
              0.8888888888888888,
              "#fdca26"
             ],
             [
              1,
              "#f0f921"
             ]
            ],
            "type": "contour"
           }
          ],
          "contourcarpet": [
           {
            "colorbar": {
             "outlinewidth": 0,
             "ticks": ""
            },
            "type": "contourcarpet"
           }
          ],
          "heatmap": [
           {
            "colorbar": {
             "outlinewidth": 0,
             "ticks": ""
            },
            "colorscale": [
             [
              0,
              "#0d0887"
             ],
             [
              0.1111111111111111,
              "#46039f"
             ],
             [
              0.2222222222222222,
              "#7201a8"
             ],
             [
              0.3333333333333333,
              "#9c179e"
             ],
             [
              0.4444444444444444,
              "#bd3786"
             ],
             [
              0.5555555555555556,
              "#d8576b"
             ],
             [
              0.6666666666666666,
              "#ed7953"
             ],
             [
              0.7777777777777778,
              "#fb9f3a"
             ],
             [
              0.8888888888888888,
              "#fdca26"
             ],
             [
              1,
              "#f0f921"
             ]
            ],
            "type": "heatmap"
           }
          ],
          "heatmapgl": [
           {
            "colorbar": {
             "outlinewidth": 0,
             "ticks": ""
            },
            "colorscale": [
             [
              0,
              "#0d0887"
             ],
             [
              0.1111111111111111,
              "#46039f"
             ],
             [
              0.2222222222222222,
              "#7201a8"
             ],
             [
              0.3333333333333333,
              "#9c179e"
             ],
             [
              0.4444444444444444,
              "#bd3786"
             ],
             [
              0.5555555555555556,
              "#d8576b"
             ],
             [
              0.6666666666666666,
              "#ed7953"
             ],
             [
              0.7777777777777778,
              "#fb9f3a"
             ],
             [
              0.8888888888888888,
              "#fdca26"
             ],
             [
              1,
              "#f0f921"
             ]
            ],
            "type": "heatmapgl"
           }
          ],
          "histogram": [
           {
            "marker": {
             "pattern": {
              "fillmode": "overlay",
              "size": 10,
              "solidity": 0.2
             }
            },
            "type": "histogram"
           }
          ],
          "histogram2d": [
           {
            "colorbar": {
             "outlinewidth": 0,
             "ticks": ""
            },
            "colorscale": [
             [
              0,
              "#0d0887"
             ],
             [
              0.1111111111111111,
              "#46039f"
             ],
             [
              0.2222222222222222,
              "#7201a8"
             ],
             [
              0.3333333333333333,
              "#9c179e"
             ],
             [
              0.4444444444444444,
              "#bd3786"
             ],
             [
              0.5555555555555556,
              "#d8576b"
             ],
             [
              0.6666666666666666,
              "#ed7953"
             ],
             [
              0.7777777777777778,
              "#fb9f3a"
             ],
             [
              0.8888888888888888,
              "#fdca26"
             ],
             [
              1,
              "#f0f921"
             ]
            ],
            "type": "histogram2d"
           }
          ],
          "histogram2dcontour": [
           {
            "colorbar": {
             "outlinewidth": 0,
             "ticks": ""
            },
            "colorscale": [
             [
              0,
              "#0d0887"
             ],
             [
              0.1111111111111111,
              "#46039f"
             ],
             [
              0.2222222222222222,
              "#7201a8"
             ],
             [
              0.3333333333333333,
              "#9c179e"
             ],
             [
              0.4444444444444444,
              "#bd3786"
             ],
             [
              0.5555555555555556,
              "#d8576b"
             ],
             [
              0.6666666666666666,
              "#ed7953"
             ],
             [
              0.7777777777777778,
              "#fb9f3a"
             ],
             [
              0.8888888888888888,
              "#fdca26"
             ],
             [
              1,
              "#f0f921"
             ]
            ],
            "type": "histogram2dcontour"
           }
          ],
          "mesh3d": [
           {
            "colorbar": {
             "outlinewidth": 0,
             "ticks": ""
            },
            "type": "mesh3d"
           }
          ],
          "parcoords": [
           {
            "line": {
             "colorbar": {
              "outlinewidth": 0,
              "ticks": ""
             }
            },
            "type": "parcoords"
           }
          ],
          "pie": [
           {
            "automargin": true,
            "type": "pie"
           }
          ],
          "scatter": [
           {
            "fillpattern": {
             "fillmode": "overlay",
             "size": 10,
             "solidity": 0.2
            },
            "type": "scatter"
           }
          ],
          "scatter3d": [
           {
            "line": {
             "colorbar": {
              "outlinewidth": 0,
              "ticks": ""
             }
            },
            "marker": {
             "colorbar": {
              "outlinewidth": 0,
              "ticks": ""
             }
            },
            "type": "scatter3d"
           }
          ],
          "scattercarpet": [
           {
            "marker": {
             "colorbar": {
              "outlinewidth": 0,
              "ticks": ""
             }
            },
            "type": "scattercarpet"
           }
          ],
          "scattergeo": [
           {
            "marker": {
             "colorbar": {
              "outlinewidth": 0,
              "ticks": ""
             }
            },
            "type": "scattergeo"
           }
          ],
          "scattergl": [
           {
            "marker": {
             "colorbar": {
              "outlinewidth": 0,
              "ticks": ""
             }
            },
            "type": "scattergl"
           }
          ],
          "scattermapbox": [
           {
            "marker": {
             "colorbar": {
              "outlinewidth": 0,
              "ticks": ""
             }
            },
            "type": "scattermapbox"
           }
          ],
          "scatterpolar": [
           {
            "marker": {
             "colorbar": {
              "outlinewidth": 0,
              "ticks": ""
             }
            },
            "type": "scatterpolar"
           }
          ],
          "scatterpolargl": [
           {
            "marker": {
             "colorbar": {
              "outlinewidth": 0,
              "ticks": ""
             }
            },
            "type": "scatterpolargl"
           }
          ],
          "scatterternary": [
           {
            "marker": {
             "colorbar": {
              "outlinewidth": 0,
              "ticks": ""
             }
            },
            "type": "scatterternary"
           }
          ],
          "surface": [
           {
            "colorbar": {
             "outlinewidth": 0,
             "ticks": ""
            },
            "colorscale": [
             [
              0,
              "#0d0887"
             ],
             [
              0.1111111111111111,
              "#46039f"
             ],
             [
              0.2222222222222222,
              "#7201a8"
             ],
             [
              0.3333333333333333,
              "#9c179e"
             ],
             [
              0.4444444444444444,
              "#bd3786"
             ],
             [
              0.5555555555555556,
              "#d8576b"
             ],
             [
              0.6666666666666666,
              "#ed7953"
             ],
             [
              0.7777777777777778,
              "#fb9f3a"
             ],
             [
              0.8888888888888888,
              "#fdca26"
             ],
             [
              1,
              "#f0f921"
             ]
            ],
            "type": "surface"
           }
          ],
          "table": [
           {
            "cells": {
             "fill": {
              "color": "#EBF0F8"
             },
             "line": {
              "color": "white"
             }
            },
            "header": {
             "fill": {
              "color": "#C8D4E3"
             },
             "line": {
              "color": "white"
             }
            },
            "type": "table"
           }
          ]
         },
         "layout": {
          "annotationdefaults": {
           "arrowcolor": "#2a3f5f",
           "arrowhead": 0,
           "arrowwidth": 1
          },
          "autotypenumbers": "strict",
          "coloraxis": {
           "colorbar": {
            "outlinewidth": 0,
            "ticks": ""
           }
          },
          "colorscale": {
           "diverging": [
            [
             0,
             "#8e0152"
            ],
            [
             0.1,
             "#c51b7d"
            ],
            [
             0.2,
             "#de77ae"
            ],
            [
             0.3,
             "#f1b6da"
            ],
            [
             0.4,
             "#fde0ef"
            ],
            [
             0.5,
             "#f7f7f7"
            ],
            [
             0.6,
             "#e6f5d0"
            ],
            [
             0.7,
             "#b8e186"
            ],
            [
             0.8,
             "#7fbc41"
            ],
            [
             0.9,
             "#4d9221"
            ],
            [
             1,
             "#276419"
            ]
           ],
           "sequential": [
            [
             0,
             "#0d0887"
            ],
            [
             0.1111111111111111,
             "#46039f"
            ],
            [
             0.2222222222222222,
             "#7201a8"
            ],
            [
             0.3333333333333333,
             "#9c179e"
            ],
            [
             0.4444444444444444,
             "#bd3786"
            ],
            [
             0.5555555555555556,
             "#d8576b"
            ],
            [
             0.6666666666666666,
             "#ed7953"
            ],
            [
             0.7777777777777778,
             "#fb9f3a"
            ],
            [
             0.8888888888888888,
             "#fdca26"
            ],
            [
             1,
             "#f0f921"
            ]
           ],
           "sequentialminus": [
            [
             0,
             "#0d0887"
            ],
            [
             0.1111111111111111,
             "#46039f"
            ],
            [
             0.2222222222222222,
             "#7201a8"
            ],
            [
             0.3333333333333333,
             "#9c179e"
            ],
            [
             0.4444444444444444,
             "#bd3786"
            ],
            [
             0.5555555555555556,
             "#d8576b"
            ],
            [
             0.6666666666666666,
             "#ed7953"
            ],
            [
             0.7777777777777778,
             "#fb9f3a"
            ],
            [
             0.8888888888888888,
             "#fdca26"
            ],
            [
             1,
             "#f0f921"
            ]
           ]
          },
          "colorway": [
           "#636efa",
           "#EF553B",
           "#00cc96",
           "#ab63fa",
           "#FFA15A",
           "#19d3f3",
           "#FF6692",
           "#B6E880",
           "#FF97FF",
           "#FECB52"
          ],
          "font": {
           "color": "#2a3f5f"
          },
          "geo": {
           "bgcolor": "white",
           "lakecolor": "white",
           "landcolor": "#E5ECF6",
           "showlakes": true,
           "showland": true,
           "subunitcolor": "white"
          },
          "hoverlabel": {
           "align": "left"
          },
          "hovermode": "closest",
          "mapbox": {
           "style": "light"
          },
          "paper_bgcolor": "white",
          "plot_bgcolor": "#E5ECF6",
          "polar": {
           "angularaxis": {
            "gridcolor": "white",
            "linecolor": "white",
            "ticks": ""
           },
           "bgcolor": "#E5ECF6",
           "radialaxis": {
            "gridcolor": "white",
            "linecolor": "white",
            "ticks": ""
           }
          },
          "scene": {
           "xaxis": {
            "backgroundcolor": "#E5ECF6",
            "gridcolor": "white",
            "gridwidth": 2,
            "linecolor": "white",
            "showbackground": true,
            "ticks": "",
            "zerolinecolor": "white"
           },
           "yaxis": {
            "backgroundcolor": "#E5ECF6",
            "gridcolor": "white",
            "gridwidth": 2,
            "linecolor": "white",
            "showbackground": true,
            "ticks": "",
            "zerolinecolor": "white"
           },
           "zaxis": {
            "backgroundcolor": "#E5ECF6",
            "gridcolor": "white",
            "gridwidth": 2,
            "linecolor": "white",
            "showbackground": true,
            "ticks": "",
            "zerolinecolor": "white"
           }
          },
          "shapedefaults": {
           "line": {
            "color": "#2a3f5f"
           }
          },
          "ternary": {
           "aaxis": {
            "gridcolor": "white",
            "linecolor": "white",
            "ticks": ""
           },
           "baxis": {
            "gridcolor": "white",
            "linecolor": "white",
            "ticks": ""
           },
           "bgcolor": "#E5ECF6",
           "caxis": {
            "gridcolor": "white",
            "linecolor": "white",
            "ticks": ""
           }
          },
          "title": {
           "x": 0.05
          },
          "xaxis": {
           "automargin": true,
           "gridcolor": "white",
           "linecolor": "white",
           "ticks": "",
           "title": {
            "standoff": 15
           },
           "zerolinecolor": "white",
           "zerolinewidth": 2
          },
          "yaxis": {
           "automargin": true,
           "gridcolor": "white",
           "linecolor": "white",
           "ticks": "",
           "title": {
            "standoff": 15
           },
           "zerolinecolor": "white",
           "zerolinewidth": 2
          }
         }
        },
        "title": {
         "text": "Number of Documents by Publication and Filing Year"
        }
       }
      },
      "text/html": [
       "<div>                            <div id=\"80a74a88-3ea9-4fac-ac12-08e1b6d5f486\" class=\"plotly-graph-div\" style=\"height:525px; width:100%;\"></div>            <script type=\"text/javascript\">                require([\"plotly\"], function(Plotly) {                    window.PLOTLYENV=window.PLOTLYENV || {};                                    if (document.getElementById(\"80a74a88-3ea9-4fac-ac12-08e1b6d5f486\")) {                    Plotly.newPlot(                        \"80a74a88-3ea9-4fac-ac12-08e1b6d5f486\",                        [{\"hovertemplate\":\"Publication Year=%{x}<br>Filing Year=%{y}<br>Document Count=%{marker.color}<extra></extra>\",\"legendgroup\":\"\",\"marker\":{\"color\":[5,2,7,2,6,2,1,3,2,2,1,2,2,3,1,7,1,5,3,1,3,3,2,4,3,3,3,1,2,2,5,2,1,4,1,1,2],\"coloraxis\":\"coloraxis\",\"size\":[5,2,7,2,6,2,1,3,2,2,1,2,2,3,1,7,1,5,3,1,3,3,2,4,3,3,3,1,2,2,5,2,1,4,1,1,2],\"sizemode\":\"area\",\"sizeref\":0.0175,\"symbol\":\"circle\"},\"mode\":\"markers\",\"name\":\"\",\"scene\":\"scene\",\"showlegend\":false,\"x\":[2018,2018,2018,2018,2018,2018,2018,2019,2019,2019,2019,2019,2020,2020,2020,2020,2020,2021,2021,2021,2021,2021,2021,2021,2022,2022,2022,2022,2022,2022,2022,2023,2023,2023,2023,2023,2023],\"y\":[2017,2018,2019,2020,2021,2022,2023,2017,2018,2021,2022,2023,2018,2019,2020,2022,2023,2017,2018,2019,2020,2021,2022,2023,2017,2018,2019,2020,2021,2022,2023,2017,2018,2019,2020,2021,2022],\"z\":[5,2,7,2,6,2,1,3,2,2,1,2,2,3,1,7,1,5,3,1,3,3,2,4,3,3,3,1,2,2,5,2,1,4,1,1,2],\"type\":\"scatter3d\"}],                        {\"template\":{\"data\":{\"histogram2dcontour\":[{\"type\":\"histogram2dcontour\",\"colorbar\":{\"outlinewidth\":0,\"ticks\":\"\"},\"colorscale\":[[0.0,\"#0d0887\"],[0.1111111111111111,\"#46039f\"],[0.2222222222222222,\"#7201a8\"],[0.3333333333333333,\"#9c179e\"],[0.4444444444444444,\"#bd3786\"],[0.5555555555555556,\"#d8576b\"],[0.6666666666666666,\"#ed7953\"],[0.7777777777777778,\"#fb9f3a\"],[0.8888888888888888,\"#fdca26\"],[1.0,\"#f0f921\"]]}],\"choropleth\":[{\"type\":\"choropleth\",\"colorbar\":{\"outlinewidth\":0,\"ticks\":\"\"}}],\"histogram2d\":[{\"type\":\"histogram2d\",\"colorbar\":{\"outlinewidth\":0,\"ticks\":\"\"},\"colorscale\":[[0.0,\"#0d0887\"],[0.1111111111111111,\"#46039f\"],[0.2222222222222222,\"#7201a8\"],[0.3333333333333333,\"#9c179e\"],[0.4444444444444444,\"#bd3786\"],[0.5555555555555556,\"#d8576b\"],[0.6666666666666666,\"#ed7953\"],[0.7777777777777778,\"#fb9f3a\"],[0.8888888888888888,\"#fdca26\"],[1.0,\"#f0f921\"]]}],\"heatmap\":[{\"type\":\"heatmap\",\"colorbar\":{\"outlinewidth\":0,\"ticks\":\"\"},\"colorscale\":[[0.0,\"#0d0887\"],[0.1111111111111111,\"#46039f\"],[0.2222222222222222,\"#7201a8\"],[0.3333333333333333,\"#9c179e\"],[0.4444444444444444,\"#bd3786\"],[0.5555555555555556,\"#d8576b\"],[0.6666666666666666,\"#ed7953\"],[0.7777777777777778,\"#fb9f3a\"],[0.8888888888888888,\"#fdca26\"],[1.0,\"#f0f921\"]]}],\"heatmapgl\":[{\"type\":\"heatmapgl\",\"colorbar\":{\"outlinewidth\":0,\"ticks\":\"\"},\"colorscale\":[[0.0,\"#0d0887\"],[0.1111111111111111,\"#46039f\"],[0.2222222222222222,\"#7201a8\"],[0.3333333333333333,\"#9c179e\"],[0.4444444444444444,\"#bd3786\"],[0.5555555555555556,\"#d8576b\"],[0.6666666666666666,\"#ed7953\"],[0.7777777777777778,\"#fb9f3a\"],[0.8888888888888888,\"#fdca26\"],[1.0,\"#f0f921\"]]}],\"contourcarpet\":[{\"type\":\"contourcarpet\",\"colorbar\":{\"outlinewidth\":0,\"ticks\":\"\"}}],\"contour\":[{\"type\":\"contour\",\"colorbar\":{\"outlinewidth\":0,\"ticks\":\"\"},\"colorscale\":[[0.0,\"#0d0887\"],[0.1111111111111111,\"#46039f\"],[0.2222222222222222,\"#7201a8\"],[0.3333333333333333,\"#9c179e\"],[0.4444444444444444,\"#bd3786\"],[0.5555555555555556,\"#d8576b\"],[0.6666666666666666,\"#ed7953\"],[0.7777777777777778,\"#fb9f3a\"],[0.8888888888888888,\"#fdca26\"],[1.0,\"#f0f921\"]]}],\"surface\":[{\"type\":\"surface\",\"colorbar\":{\"outlinewidth\":0,\"ticks\":\"\"},\"colorscale\":[[0.0,\"#0d0887\"],[0.1111111111111111,\"#46039f\"],[0.2222222222222222,\"#7201a8\"],[0.3333333333333333,\"#9c179e\"],[0.4444444444444444,\"#bd3786\"],[0.5555555555555556,\"#d8576b\"],[0.6666666666666666,\"#ed7953\"],[0.7777777777777778,\"#fb9f3a\"],[0.8888888888888888,\"#fdca26\"],[1.0,\"#f0f921\"]]}],\"mesh3d\":[{\"type\":\"mesh3d\",\"colorbar\":{\"outlinewidth\":0,\"ticks\":\"\"}}],\"scatter\":[{\"fillpattern\":{\"fillmode\":\"overlay\",\"size\":10,\"solidity\":0.2},\"type\":\"scatter\"}],\"parcoords\":[{\"type\":\"parcoords\",\"line\":{\"colorbar\":{\"outlinewidth\":0,\"ticks\":\"\"}}}],\"scatterpolargl\":[{\"type\":\"scatterpolargl\",\"marker\":{\"colorbar\":{\"outlinewidth\":0,\"ticks\":\"\"}}}],\"bar\":[{\"error_x\":{\"color\":\"#2a3f5f\"},\"error_y\":{\"color\":\"#2a3f5f\"},\"marker\":{\"line\":{\"color\":\"#E5ECF6\",\"width\":0.5},\"pattern\":{\"fillmode\":\"overlay\",\"size\":10,\"solidity\":0.2}},\"type\":\"bar\"}],\"scattergeo\":[{\"type\":\"scattergeo\",\"marker\":{\"colorbar\":{\"outlinewidth\":0,\"ticks\":\"\"}}}],\"scatterpolar\":[{\"type\":\"scatterpolar\",\"marker\":{\"colorbar\":{\"outlinewidth\":0,\"ticks\":\"\"}}}],\"histogram\":[{\"marker\":{\"pattern\":{\"fillmode\":\"overlay\",\"size\":10,\"solidity\":0.2}},\"type\":\"histogram\"}],\"scattergl\":[{\"type\":\"scattergl\",\"marker\":{\"colorbar\":{\"outlinewidth\":0,\"ticks\":\"\"}}}],\"scatter3d\":[{\"type\":\"scatter3d\",\"line\":{\"colorbar\":{\"outlinewidth\":0,\"ticks\":\"\"}},\"marker\":{\"colorbar\":{\"outlinewidth\":0,\"ticks\":\"\"}}}],\"scattermapbox\":[{\"type\":\"scattermapbox\",\"marker\":{\"colorbar\":{\"outlinewidth\":0,\"ticks\":\"\"}}}],\"scatterternary\":[{\"type\":\"scatterternary\",\"marker\":{\"colorbar\":{\"outlinewidth\":0,\"ticks\":\"\"}}}],\"scattercarpet\":[{\"type\":\"scattercarpet\",\"marker\":{\"colorbar\":{\"outlinewidth\":0,\"ticks\":\"\"}}}],\"carpet\":[{\"aaxis\":{\"endlinecolor\":\"#2a3f5f\",\"gridcolor\":\"white\",\"linecolor\":\"white\",\"minorgridcolor\":\"white\",\"startlinecolor\":\"#2a3f5f\"},\"baxis\":{\"endlinecolor\":\"#2a3f5f\",\"gridcolor\":\"white\",\"linecolor\":\"white\",\"minorgridcolor\":\"white\",\"startlinecolor\":\"#2a3f5f\"},\"type\":\"carpet\"}],\"table\":[{\"cells\":{\"fill\":{\"color\":\"#EBF0F8\"},\"line\":{\"color\":\"white\"}},\"header\":{\"fill\":{\"color\":\"#C8D4E3\"},\"line\":{\"color\":\"white\"}},\"type\":\"table\"}],\"barpolar\":[{\"marker\":{\"line\":{\"color\":\"#E5ECF6\",\"width\":0.5},\"pattern\":{\"fillmode\":\"overlay\",\"size\":10,\"solidity\":0.2}},\"type\":\"barpolar\"}],\"pie\":[{\"automargin\":true,\"type\":\"pie\"}]},\"layout\":{\"autotypenumbers\":\"strict\",\"colorway\":[\"#636efa\",\"#EF553B\",\"#00cc96\",\"#ab63fa\",\"#FFA15A\",\"#19d3f3\",\"#FF6692\",\"#B6E880\",\"#FF97FF\",\"#FECB52\"],\"font\":{\"color\":\"#2a3f5f\"},\"hovermode\":\"closest\",\"hoverlabel\":{\"align\":\"left\"},\"paper_bgcolor\":\"white\",\"plot_bgcolor\":\"#E5ECF6\",\"polar\":{\"bgcolor\":\"#E5ECF6\",\"angularaxis\":{\"gridcolor\":\"white\",\"linecolor\":\"white\",\"ticks\":\"\"},\"radialaxis\":{\"gridcolor\":\"white\",\"linecolor\":\"white\",\"ticks\":\"\"}},\"ternary\":{\"bgcolor\":\"#E5ECF6\",\"aaxis\":{\"gridcolor\":\"white\",\"linecolor\":\"white\",\"ticks\":\"\"},\"baxis\":{\"gridcolor\":\"white\",\"linecolor\":\"white\",\"ticks\":\"\"},\"caxis\":{\"gridcolor\":\"white\",\"linecolor\":\"white\",\"ticks\":\"\"}},\"coloraxis\":{\"colorbar\":{\"outlinewidth\":0,\"ticks\":\"\"}},\"colorscale\":{\"sequential\":[[0.0,\"#0d0887\"],[0.1111111111111111,\"#46039f\"],[0.2222222222222222,\"#7201a8\"],[0.3333333333333333,\"#9c179e\"],[0.4444444444444444,\"#bd3786\"],[0.5555555555555556,\"#d8576b\"],[0.6666666666666666,\"#ed7953\"],[0.7777777777777778,\"#fb9f3a\"],[0.8888888888888888,\"#fdca26\"],[1.0,\"#f0f921\"]],\"sequentialminus\":[[0.0,\"#0d0887\"],[0.1111111111111111,\"#46039f\"],[0.2222222222222222,\"#7201a8\"],[0.3333333333333333,\"#9c179e\"],[0.4444444444444444,\"#bd3786\"],[0.5555555555555556,\"#d8576b\"],[0.6666666666666666,\"#ed7953\"],[0.7777777777777778,\"#fb9f3a\"],[0.8888888888888888,\"#fdca26\"],[1.0,\"#f0f921\"]],\"diverging\":[[0,\"#8e0152\"],[0.1,\"#c51b7d\"],[0.2,\"#de77ae\"],[0.3,\"#f1b6da\"],[0.4,\"#fde0ef\"],[0.5,\"#f7f7f7\"],[0.6,\"#e6f5d0\"],[0.7,\"#b8e186\"],[0.8,\"#7fbc41\"],[0.9,\"#4d9221\"],[1,\"#276419\"]]},\"xaxis\":{\"gridcolor\":\"white\",\"linecolor\":\"white\",\"ticks\":\"\",\"title\":{\"standoff\":15},\"zerolinecolor\":\"white\",\"automargin\":true,\"zerolinewidth\":2},\"yaxis\":{\"gridcolor\":\"white\",\"linecolor\":\"white\",\"ticks\":\"\",\"title\":{\"standoff\":15},\"zerolinecolor\":\"white\",\"automargin\":true,\"zerolinewidth\":2},\"scene\":{\"xaxis\":{\"backgroundcolor\":\"#E5ECF6\",\"gridcolor\":\"white\",\"linecolor\":\"white\",\"showbackground\":true,\"ticks\":\"\",\"zerolinecolor\":\"white\",\"gridwidth\":2},\"yaxis\":{\"backgroundcolor\":\"#E5ECF6\",\"gridcolor\":\"white\",\"linecolor\":\"white\",\"showbackground\":true,\"ticks\":\"\",\"zerolinecolor\":\"white\",\"gridwidth\":2},\"zaxis\":{\"backgroundcolor\":\"#E5ECF6\",\"gridcolor\":\"white\",\"linecolor\":\"white\",\"showbackground\":true,\"ticks\":\"\",\"zerolinecolor\":\"white\",\"gridwidth\":2}},\"shapedefaults\":{\"line\":{\"color\":\"#2a3f5f\"}},\"annotationdefaults\":{\"arrowcolor\":\"#2a3f5f\",\"arrowhead\":0,\"arrowwidth\":1},\"geo\":{\"bgcolor\":\"white\",\"landcolor\":\"#E5ECF6\",\"subunitcolor\":\"white\",\"showland\":true,\"showlakes\":true,\"lakecolor\":\"white\"},\"title\":{\"x\":0.05},\"mapbox\":{\"style\":\"light\"}}},\"scene\":{\"domain\":{\"x\":[0.0,1.0],\"y\":[0.0,1.0]},\"xaxis\":{\"title\":{\"text\":\"Publication Year\"}},\"yaxis\":{\"title\":{\"text\":\"Filing Year\"}},\"zaxis\":{\"title\":{\"text\":\"Document Count\"}}},\"coloraxis\":{\"colorbar\":{\"title\":{\"text\":\"Document Count\"}},\"colorscale\":[[0.0,\"#0d0887\"],[0.1111111111111111,\"#46039f\"],[0.2222222222222222,\"#7201a8\"],[0.3333333333333333,\"#9c179e\"],[0.4444444444444444,\"#bd3786\"],[0.5555555555555556,\"#d8576b\"],[0.6666666666666666,\"#ed7953\"],[0.7777777777777778,\"#fb9f3a\"],[0.8888888888888888,\"#fdca26\"],[1.0,\"#f0f921\"]]},\"legend\":{\"tracegroupgap\":0,\"itemsizing\":\"constant\"},\"title\":{\"text\":\"Number of Documents by Publication and Filing Year\"}},                        {\"responsive\": true}                    ).then(function(){\n",
       "                            \n",
       "var gd = document.getElementById('80a74a88-3ea9-4fac-ac12-08e1b6d5f486');\n",
       "var x = new MutationObserver(function (mutations, observer) {{\n",
       "        var display = window.getComputedStyle(gd).display;\n",
       "        if (!display || display === 'none') {{\n",
       "            console.log([gd, 'removed!']);\n",
       "            Plotly.purge(gd);\n",
       "            observer.disconnect();\n",
       "        }}\n",
       "}});\n",
       "\n",
       "// Listen for the removal of the full notebook cells\n",
       "var notebookContainer = gd.closest('#notebook-container');\n",
       "if (notebookContainer) {{\n",
       "    x.observe(notebookContainer, {childList: true});\n",
       "}}\n",
       "\n",
       "// Listen for the clearing of the current output cell\n",
       "var outputEl = gd.closest('.output');\n",
       "if (outputEl) {{\n",
       "    x.observe(outputEl, {childList: true});\n",
       "}}\n",
       "\n",
       "                        })                };                });            </script>        </div>"
      ]
     },
     "metadata": {},
     "output_type": "display_data"
    }
   ],
   "source": [
    "import pandas as pd\n",
    "import plotly.express as px\n",
    "import random\n",
    "from datetime import datetime, timedelta\n",
    "\n",
    "# Fonction pour générer des dates aléatoires entre deux dates\n",
    "def random_dates(start, end, n=10):\n",
    "    start_u = start.timestamp()\n",
    "    end_u = end.timestamp()\n",
    "    return [datetime.fromtimestamp(random.randint(start_u, end_u)) for _ in range(n)]\n",
    "\n",
    "# Générer des dates aléatoires\n",
    "publication_dates = random_dates(datetime(2018, 1, 1), datetime(2023, 12, 31), 100)\n",
    "filing_dates = random_dates(datetime(2017, 1, 1), datetime(2023, 12, 31), 100)\n",
    "document_numbers = list(range(1, 101))\n",
    "\n",
    "# Création du DataFrame\n",
    "data = pd.DataFrame({\n",
    "    'Publication Date': publication_dates,\n",
    "    'Filing Date': filing_dates,\n",
    "    'Document Number': document_numbers\n",
    "})\n",
    "\n",
    "# Conversion des colonnes en datetime (si nécessaire)\n",
    "data['Publication Date'] = pd.to_datetime(data['Publication Date'])\n",
    "data['Filing Date'] = pd.to_datetime(data['Filing Date'])\n",
    "\n",
    "# Groupement par année de Publication et de Dépôt\n",
    "documents_by_dates = data.groupby([data['Publication Date'].dt.year, data['Filing Date'].dt.year])['Document Number'].count().reset_index()\n",
    "documents_by_dates.columns = ['Publication Year', 'Filing Year', 'Document Count']\n",
    "\n",
    "# Création de la visualisation 3D\n",
    "fig = px.scatter_3d(documents_by_dates, x='Publication Year', y='Filing Year', z='Document Count',\n",
    "                    color='Document Count', size='Document Count', size_max=20,\n",
    "                    title='Number of Documents by Publication and Filing Year')\n",
    "\n",
    "# Enregistrement de la visualisation sous forme de fichier HTML\n",
    "fig.write_html(\"3d_visualization2.html\")\n",
    "\n",
    "# Affichage de la visualisation\n",
    "fig.show()\n"
   ]
  },
  {
   "cell_type": "markdown",
   "id": "d19ecd1f",
   "metadata": {},
   "source": [
    "# Analyse 4D"
   ]
  },
  {
   "cell_type": "raw",
   "id": "36fa0576",
   "metadata": {},
   "source": [
    " Relation entre Assignee, Inventor Name, Document Type, et Publication Date"
   ]
  },
  {
   "cell_type": "code",
   "execution_count": 17,
   "id": "1931a7e6",
   "metadata": {},
   "outputs": [
    {
     "data": {
      "text/html": [
       "<div>\n",
       "<style scoped>\n",
       "    .dataframe tbody tr th:only-of-type {\n",
       "        vertical-align: middle;\n",
       "    }\n",
       "\n",
       "    .dataframe tbody tr th {\n",
       "        vertical-align: top;\n",
       "    }\n",
       "\n",
       "    .dataframe thead th {\n",
       "        text-align: right;\n",
       "    }\n",
       "</style>\n",
       "<table border=\"1\" class=\"dataframe\">\n",
       "  <thead>\n",
       "    <tr style=\"text-align: right;\">\n",
       "      <th></th>\n",
       "      <th>Assignee</th>\n",
       "      <th>Inventor Name</th>\n",
       "      <th>Document Type</th>\n",
       "      <th>Publication Year</th>\n",
       "      <th>Document Count</th>\n",
       "    </tr>\n",
       "  </thead>\n",
       "  <tbody>\n",
       "    <tr>\n",
       "      <th>0</th>\n",
       "      <td>2020 POWER GENERATION LTD (Shoreham by Sea Wes...</td>\n",
       "      <td>COATES NICHOLAS RICHARD (GB)</td>\n",
       "      <td>EP</td>\n",
       "      <td>2017.0</td>\n",
       "      <td>1</td>\n",
       "    </tr>\n",
       "    <tr>\n",
       "      <th>1</th>\n",
       "      <td>AB Industry Osaka salmon yukichu</td>\n",
       "      <td>AB Industry Osaka salmon yukichu</td>\n",
       "      <td>JP</td>\n",
       "      <td>1995.0</td>\n",
       "      <td>1</td>\n",
       "    </tr>\n",
       "    <tr>\n",
       "      <th>2</th>\n",
       "      <td>AC AERONAUTICAL LTD (GB)</td>\n",
       "      <td>HIGGS ANDREW (JP)</td>\n",
       "      <td>WIPO</td>\n",
       "      <td>2013.0</td>\n",
       "      <td>2</td>\n",
       "    </tr>\n",
       "    <tr>\n",
       "      <th>3</th>\n",
       "      <td>ACCELERGY CORP (Houston, TX 77002, US)</td>\n",
       "      <td>FIATO ROCCO A (US); BAUMAN RICHARD F (US); ZAC...</td>\n",
       "      <td>EP</td>\n",
       "      <td>2018.0</td>\n",
       "      <td>1</td>\n",
       "    </tr>\n",
       "    <tr>\n",
       "      <th>4</th>\n",
       "      <td>ACCELERGY CORP (Houston, TX 77007, US)</td>\n",
       "      <td>FIATO ROCCO A (US); BAUMAN RICHARD F (US); ZAC...</td>\n",
       "      <td>EP</td>\n",
       "      <td>2019.0</td>\n",
       "      <td>1</td>\n",
       "    </tr>\n",
       "  </tbody>\n",
       "</table>\n",
       "</div>"
      ],
      "text/plain": [
       "                                            Assignee  \\\n",
       "0  2020 POWER GENERATION LTD (Shoreham by Sea Wes...   \n",
       "1                   AB Industry Osaka salmon yukichu   \n",
       "2                           AC AERONAUTICAL LTD (GB)   \n",
       "3             ACCELERGY CORP (Houston, TX 77002, US)   \n",
       "4             ACCELERGY CORP (Houston, TX 77007, US)   \n",
       "\n",
       "                                       Inventor Name Document Type  \\\n",
       "0                       COATES NICHOLAS RICHARD (GB)            EP   \n",
       "1                   AB Industry Osaka salmon yukichu            JP   \n",
       "2                                  HIGGS ANDREW (JP)          WIPO   \n",
       "3  FIATO ROCCO A (US); BAUMAN RICHARD F (US); ZAC...            EP   \n",
       "4  FIATO ROCCO A (US); BAUMAN RICHARD F (US); ZAC...            EP   \n",
       "\n",
       "   Publication Year  Document Count  \n",
       "0            2017.0               1  \n",
       "1            1995.0               1  \n",
       "2            2013.0               2  \n",
       "3            2018.0               1  \n",
       "4            2019.0               1  "
      ]
     },
     "execution_count": 17,
     "metadata": {},
     "output_type": "execute_result"
    }
   ],
   "source": [
    "data['Publication Year'] = data['Publication Date'].dt.year\n",
    "documents_per_assignee_inventor_type_year = data.groupby(['Assignee', 'Inventor Name', 'Document Type', 'Publication Year']).size().reset_index(name='Document Count')\n",
    "documents_per_assignee_inventor_type_year.to_csv('documents_per_assignee_inventor_type_year.csv', index=False)\n",
    "documents_per_assignee_inventor_type_year.head()\n"
   ]
  },
  {
   "cell_type": "raw",
   "id": "6853143b",
   "metadata": {},
   "source": [
    "Relation entre Assignee, Inventor Name, Document Type, et Abstract Length"
   ]
  },
  {
   "cell_type": "code",
   "execution_count": 18,
   "id": "d06c4c23",
   "metadata": {},
   "outputs": [
    {
     "data": {
      "text/html": [
       "<div>\n",
       "<style scoped>\n",
       "    .dataframe tbody tr th:only-of-type {\n",
       "        vertical-align: middle;\n",
       "    }\n",
       "\n",
       "    .dataframe tbody tr th {\n",
       "        vertical-align: top;\n",
       "    }\n",
       "\n",
       "    .dataframe thead th {\n",
       "        text-align: right;\n",
       "    }\n",
       "</style>\n",
       "<table border=\"1\" class=\"dataframe\">\n",
       "  <thead>\n",
       "    <tr style=\"text-align: right;\">\n",
       "      <th></th>\n",
       "      <th>Assignee</th>\n",
       "      <th>Inventor Name</th>\n",
       "      <th>Document Type</th>\n",
       "      <th>count</th>\n",
       "      <th>mean</th>\n",
       "      <th>std</th>\n",
       "      <th>min</th>\n",
       "      <th>25%</th>\n",
       "      <th>50%</th>\n",
       "      <th>75%</th>\n",
       "      <th>max</th>\n",
       "    </tr>\n",
       "  </thead>\n",
       "  <tbody>\n",
       "    <tr>\n",
       "      <th>0</th>\n",
       "      <td>2020 POWER GENERATION LIMITED (GB)</td>\n",
       "      <td>Coates, Nicholas Richard (East Sussex, GB)</td>\n",
       "      <td>US</td>\n",
       "      <td>1.0</td>\n",
       "      <td>871.0</td>\n",
       "      <td>NaN</td>\n",
       "      <td>871.0</td>\n",
       "      <td>871.0</td>\n",
       "      <td>871.0</td>\n",
       "      <td>871.0</td>\n",
       "      <td>871.0</td>\n",
       "    </tr>\n",
       "    <tr>\n",
       "      <th>1</th>\n",
       "      <td>2020 POWER GENERATION LTD (Shoreham by Sea Wes...</td>\n",
       "      <td>COATES NICHOLAS RICHARD (GB)</td>\n",
       "      <td>EP</td>\n",
       "      <td>1.0</td>\n",
       "      <td>871.0</td>\n",
       "      <td>NaN</td>\n",
       "      <td>871.0</td>\n",
       "      <td>871.0</td>\n",
       "      <td>871.0</td>\n",
       "      <td>871.0</td>\n",
       "      <td>871.0</td>\n",
       "    </tr>\n",
       "    <tr>\n",
       "      <th>2</th>\n",
       "      <td>A-T-O Inc. (Willoughby, OH)</td>\n",
       "      <td>Heintz, Clifford E. (Buffalo, NY)</td>\n",
       "      <td>US</td>\n",
       "      <td>1.0</td>\n",
       "      <td>255.0</td>\n",
       "      <td>NaN</td>\n",
       "      <td>255.0</td>\n",
       "      <td>255.0</td>\n",
       "      <td>255.0</td>\n",
       "      <td>255.0</td>\n",
       "      <td>255.0</td>\n",
       "    </tr>\n",
       "    <tr>\n",
       "      <th>3</th>\n",
       "      <td>AB Industry Osaka salmon yukichu</td>\n",
       "      <td>AB Industry Osaka salmon yukichu</td>\n",
       "      <td>JP</td>\n",
       "      <td>1.0</td>\n",
       "      <td>1195.0</td>\n",
       "      <td>NaN</td>\n",
       "      <td>1195.0</td>\n",
       "      <td>1195.0</td>\n",
       "      <td>1195.0</td>\n",
       "      <td>1195.0</td>\n",
       "      <td>1195.0</td>\n",
       "    </tr>\n",
       "    <tr>\n",
       "      <th>4</th>\n",
       "      <td>AC AERONAUTICAL LTD (GB)</td>\n",
       "      <td>HIGGS ANDREW (JP)</td>\n",
       "      <td>WIPO</td>\n",
       "      <td>2.0</td>\n",
       "      <td>561.0</td>\n",
       "      <td>0.0</td>\n",
       "      <td>561.0</td>\n",
       "      <td>561.0</td>\n",
       "      <td>561.0</td>\n",
       "      <td>561.0</td>\n",
       "      <td>561.0</td>\n",
       "    </tr>\n",
       "  </tbody>\n",
       "</table>\n",
       "</div>"
      ],
      "text/plain": [
       "                                            Assignee  \\\n",
       "0                 2020 POWER GENERATION LIMITED (GB)   \n",
       "1  2020 POWER GENERATION LTD (Shoreham by Sea Wes...   \n",
       "2                        A-T-O Inc. (Willoughby, OH)   \n",
       "3                   AB Industry Osaka salmon yukichu   \n",
       "4                           AC AERONAUTICAL LTD (GB)   \n",
       "\n",
       "                                Inventor Name Document Type  count    mean  \\\n",
       "0  Coates, Nicholas Richard (East Sussex, GB)            US    1.0   871.0   \n",
       "1                COATES NICHOLAS RICHARD (GB)            EP    1.0   871.0   \n",
       "2           Heintz, Clifford E. (Buffalo, NY)            US    1.0   255.0   \n",
       "3            AB Industry Osaka salmon yukichu            JP    1.0  1195.0   \n",
       "4                           HIGGS ANDREW (JP)          WIPO    2.0   561.0   \n",
       "\n",
       "   std     min     25%     50%     75%     max  \n",
       "0  NaN   871.0   871.0   871.0   871.0   871.0  \n",
       "1  NaN   871.0   871.0   871.0   871.0   871.0  \n",
       "2  NaN   255.0   255.0   255.0   255.0   255.0  \n",
       "3  NaN  1195.0  1195.0  1195.0  1195.0  1195.0  \n",
       "4  0.0   561.0   561.0   561.0   561.0   561.0  "
      ]
     },
     "execution_count": 18,
     "metadata": {},
     "output_type": "execute_result"
    }
   ],
   "source": [
    "data['Abstract Length'] = data['Abstract'].apply(lambda x: len(x) if isinstance(x, str) else 0)\n",
    "abstract_length_analysis = data.groupby(['Assignee', 'Inventor Name', 'Document Type'])['Abstract Length'].describe().reset_index()\n",
    "abstract_length_analysis.to_csv('abstract_length_analysis.csv', index=False)\n",
    "abstract_length_analysis.head()\n"
   ]
  },
  {
   "cell_type": "markdown",
   "id": "4b964dc2",
   "metadata": {},
   "source": [
    "# Analyse 5D"
   ]
  },
  {
   "cell_type": "raw",
   "id": "c78e457b",
   "metadata": {},
   "source": [
    "Relation entre Assignee, Inventor Name, Document Type, Publication Date, et Filing Date"
   ]
  },
  {
   "cell_type": "code",
   "execution_count": 20,
   "id": "9563a78c",
   "metadata": {},
   "outputs": [
    {
     "data": {
      "text/html": [
       "<div>\n",
       "<style scoped>\n",
       "    .dataframe tbody tr th:only-of-type {\n",
       "        vertical-align: middle;\n",
       "    }\n",
       "\n",
       "    .dataframe tbody tr th {\n",
       "        vertical-align: top;\n",
       "    }\n",
       "\n",
       "    .dataframe thead th {\n",
       "        text-align: right;\n",
       "    }\n",
       "</style>\n",
       "<table border=\"1\" class=\"dataframe\">\n",
       "  <thead>\n",
       "    <tr style=\"text-align: right;\">\n",
       "      <th></th>\n",
       "      <th>Assignee</th>\n",
       "      <th>Inventor Name</th>\n",
       "      <th>Document Type</th>\n",
       "      <th>Publication Year</th>\n",
       "      <th>Filing Year</th>\n",
       "      <th>Document Count</th>\n",
       "    </tr>\n",
       "  </thead>\n",
       "  <tbody>\n",
       "    <tr>\n",
       "      <th>0</th>\n",
       "      <td>2020 POWER GENERATION LTD (Shoreham by Sea Wes...</td>\n",
       "      <td>COATES NICHOLAS RICHARD (GB)</td>\n",
       "      <td>EP</td>\n",
       "      <td>2017.0</td>\n",
       "      <td>2010.0</td>\n",
       "      <td>1</td>\n",
       "    </tr>\n",
       "    <tr>\n",
       "      <th>1</th>\n",
       "      <td>AB Industry Osaka salmon yukichu</td>\n",
       "      <td>AB Industry Osaka salmon yukichu</td>\n",
       "      <td>JP</td>\n",
       "      <td>1995.0</td>\n",
       "      <td>1993.0</td>\n",
       "      <td>1</td>\n",
       "    </tr>\n",
       "    <tr>\n",
       "      <th>2</th>\n",
       "      <td>AC AERONAUTICAL LTD (GB)</td>\n",
       "      <td>HIGGS ANDREW (JP)</td>\n",
       "      <td>WIPO</td>\n",
       "      <td>2013.0</td>\n",
       "      <td>2013.0</td>\n",
       "      <td>2</td>\n",
       "    </tr>\n",
       "    <tr>\n",
       "      <th>3</th>\n",
       "      <td>ACCELERGY CORP (Houston, TX 77002, US)</td>\n",
       "      <td>FIATO ROCCO A (US); BAUMAN RICHARD F (US); ZAC...</td>\n",
       "      <td>EP</td>\n",
       "      <td>2018.0</td>\n",
       "      <td>2011.0</td>\n",
       "      <td>1</td>\n",
       "    </tr>\n",
       "    <tr>\n",
       "      <th>4</th>\n",
       "      <td>ACCELERGY CORP (Houston, TX 77007, US)</td>\n",
       "      <td>FIATO ROCCO A (US); BAUMAN RICHARD F (US); ZAC...</td>\n",
       "      <td>EP</td>\n",
       "      <td>2019.0</td>\n",
       "      <td>2011.0</td>\n",
       "      <td>1</td>\n",
       "    </tr>\n",
       "  </tbody>\n",
       "</table>\n",
       "</div>"
      ],
      "text/plain": [
       "                                            Assignee  \\\n",
       "0  2020 POWER GENERATION LTD (Shoreham by Sea Wes...   \n",
       "1                   AB Industry Osaka salmon yukichu   \n",
       "2                           AC AERONAUTICAL LTD (GB)   \n",
       "3             ACCELERGY CORP (Houston, TX 77002, US)   \n",
       "4             ACCELERGY CORP (Houston, TX 77007, US)   \n",
       "\n",
       "                                       Inventor Name Document Type  \\\n",
       "0                       COATES NICHOLAS RICHARD (GB)            EP   \n",
       "1                   AB Industry Osaka salmon yukichu            JP   \n",
       "2                                  HIGGS ANDREW (JP)          WIPO   \n",
       "3  FIATO ROCCO A (US); BAUMAN RICHARD F (US); ZAC...            EP   \n",
       "4  FIATO ROCCO A (US); BAUMAN RICHARD F (US); ZAC...            EP   \n",
       "\n",
       "   Publication Year  Filing Year  Document Count  \n",
       "0            2017.0       2010.0               1  \n",
       "1            1995.0       1993.0               1  \n",
       "2            2013.0       2013.0               2  \n",
       "3            2018.0       2011.0               1  \n",
       "4            2019.0       2011.0               1  "
      ]
     },
     "execution_count": 20,
     "metadata": {},
     "output_type": "execute_result"
    }
   ],
   "source": [
    "data['Filing Year'] = data['Filing Date'].dt.year\n",
    "documents_per_assignee_inventor_type_pub_filing_year = data.groupby(['Assignee', 'Inventor Name', 'Document Type', 'Publication Year', 'Filing Year']).size().reset_index(name='Document Count')\n",
    "documents_per_assignee_inventor_type_pub_filing_year.to_csv('documents_per_assignee_inventor_type_pub_filing_year.csv', index=False)\n",
    "documents_per_assignee_inventor_type_pub_filing_year.head()\n"
   ]
  },
  {
   "cell_type": "code",
   "execution_count": 34,
   "id": "a9dc4a90",
   "metadata": {},
   "outputs": [
    {
     "name": "stdout",
     "output_type": "stream",
     "text": [
      "CSV file has been successfully converted to C:\\\\Users\\\\hp\\\\id2\\\\bg\\\\PatentsProject\\\\resultats\\\\word_freq.xlsx\n"
     ]
    }
   ],
   "source": []
  },
  {
   "cell_type": "code",
   "execution_count": null,
   "id": "135e0303",
   "metadata": {},
   "outputs": [],
   "source": []
  }
 ],
 "metadata": {
  "kernelspec": {
   "display_name": "Python 3 (ipykernel)",
   "language": "python",
   "name": "python3"
  },
  "language_info": {
   "codemirror_mode": {
    "name": "ipython",
    "version": 3
   },
   "file_extension": ".py",
   "mimetype": "text/x-python",
   "name": "python",
   "nbconvert_exporter": "python",
   "pygments_lexer": "ipython3",
   "version": "3.11.5"
  }
 },
 "nbformat": 4,
 "nbformat_minor": 5
}
